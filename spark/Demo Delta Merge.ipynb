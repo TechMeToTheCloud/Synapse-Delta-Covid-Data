{
  "cells": [
    {
      "cell_type": "markdown",
      "source": [
        "Previously load the parquet file in a storage from https://pandemicdatalake.blob.core.windows.net/public/curated/covid-19/ecdc_cases/latest/ecdc_cases.parquet  "
      ],
      "metadata": {
        "nteract": {
          "transient": {
            "deleting": false
          }
        }
      }
    },
    {
      "cell_type": "markdown",
      "source": [
        "# Setup the path location where the parquet file is stored"
      ],
      "metadata": {
        "nteract": {
          "transient": {
            "deleting": false
          }
        }
      }
    },
    {
      "cell_type": "code",
      "source": [
        "storagePath = \"abfss://churning@churninge2edemo.dfs.core.windows.net/synapse/tables/covid\""
      ],
      "outputs": [
        {
          "output_type": "display_data",
          "data": {
            "application/vnd.livy.statement-meta+json": {
              "spark_pool": "smallPool",
              "session_id": 10,
              "statement_id": 1,
              "state": "finished",
              "livy_statement_state": "available",
              "queued_time": "2021-06-24T01:22:45.7345134Z",
              "session_start_time": "2021-06-24T01:22:45.8022496Z",
              "execution_start_time": "2021-06-24T01:25:39.1159409Z",
              "execution_finish_time": "2021-06-24T01:25:41.2030887Z"
            },
            "text/plain": "StatementMeta(smallPool, 10, 1, Finished, Available)"
          },
          "metadata": {}
        },
        {
          "output_type": "stream",
          "name": "stdout",
          "text": []
        }
      ],
      "execution_count": 1,
      "metadata": {
        "jupyter": {
          "source_hidden": false,
          "outputs_hidden": false
        },
        "nteract": {
          "transient": {
            "deleting": false
          }
        },
        "collapsed": true
      }
    },
    {
      "cell_type": "code",
      "source": [
        "dfcovidParquet = spark.read.load(f\"{storagePath}/ecdc_cases.parquet\", format=\"parquet\")"
      ],
      "outputs": [
        {
          "output_type": "display_data",
          "data": {
            "application/vnd.livy.statement-meta+json": {
              "spark_pool": "smallPool",
              "session_id": 10,
              "statement_id": 2,
              "state": "finished",
              "livy_statement_state": "available",
              "queued_time": "2021-06-24T01:22:45.7363764Z",
              "session_start_time": null,
              "execution_start_time": "2021-06-24T01:25:41.3153022Z",
              "execution_finish_time": "2021-06-24T01:25:59.9220738Z"
            },
            "text/plain": "StatementMeta(smallPool, 10, 2, Finished, Available)"
          },
          "metadata": {}
        },
        {
          "output_type": "stream",
          "name": "stdout",
          "text": []
        }
      ],
      "execution_count": 2,
      "metadata": {}
    },
    {
      "cell_type": "markdown",
      "source": [
        "# Convert the parquet file to delta"
      ],
      "metadata": {
        "nteract": {
          "transient": {
            "deleting": false
          }
        }
      }
    },
    {
      "cell_type": "code",
      "source": [
        "dfcovidParquet.write.format(\"delta\").mode(\"overwrite\").save(f\"{storagePath}/delta\")"
      ],
      "outputs": [
        {
          "output_type": "display_data",
          "data": {
            "application/vnd.livy.statement-meta+json": {
              "spark_pool": "smallPool",
              "session_id": 10,
              "statement_id": 3,
              "state": "finished",
              "livy_statement_state": "available",
              "queued_time": "2021-06-24T01:22:45.7379787Z",
              "session_start_time": null,
              "execution_start_time": "2021-06-24T01:26:00.0321706Z",
              "execution_finish_time": "2021-06-24T01:26:24.7573336Z"
            },
            "text/plain": "StatementMeta(smallPool, 10, 3, Finished, Available)"
          },
          "metadata": {}
        },
        {
          "output_type": "stream",
          "name": "stdout",
          "text": []
        }
      ],
      "execution_count": 3,
      "metadata": {
        "jupyter": {
          "source_hidden": false,
          "outputs_hidden": false
        },
        "nteract": {
          "transient": {
            "deleting": false
          }
        },
        "collapsed": true
      }
    },
    {
      "cell_type": "code",
      "source": [
        "dfCovidDelta =  spark.read.load(f\"{storagePath}/delta\", format=\"delta\")"
      ],
      "outputs": [
        {
          "output_type": "display_data",
          "data": {
            "application/vnd.livy.statement-meta+json": {
              "spark_pool": "smallPool",
              "session_id": 10,
              "statement_id": 4,
              "state": "finished",
              "livy_statement_state": "available",
              "queued_time": "2021-06-24T01:22:45.7396404Z",
              "session_start_time": null,
              "execution_start_time": "2021-06-24T01:26:24.8648674Z",
              "execution_finish_time": "2021-06-24T01:26:26.9300555Z"
            },
            "text/plain": "StatementMeta(smallPool, 10, 4, Finished, Available)"
          },
          "metadata": {}
        },
        {
          "output_type": "stream",
          "name": "stdout",
          "text": []
        }
      ],
      "execution_count": 4,
      "metadata": {
        "jupyter": {
          "source_hidden": false,
          "outputs_hidden": false
        },
        "nteract": {
          "transient": {
            "deleting": false
          }
        },
        "collapsed": true
      }
    },
    {
      "cell_type": "code",
      "source": [
        "dfCovidDelta.show()"
      ],
      "outputs": [
        {
          "output_type": "display_data",
          "data": {
            "application/vnd.livy.statement-meta+json": {
              "spark_pool": "smallPool",
              "session_id": 10,
              "statement_id": 5,
              "state": "finished",
              "livy_statement_state": "available",
              "queued_time": "2021-06-24T01:22:45.7414666Z",
              "session_start_time": null,
              "execution_start_time": "2021-06-24T01:26:27.0453322Z",
              "execution_finish_time": "2021-06-24T01:26:37.3445245Z"
            },
            "text/plain": "StatementMeta(smallPool, 10, 5, Finished, Available)"
          },
          "metadata": {}
        },
        {
          "output_type": "stream",
          "name": "stdout",
          "text": [
            "+----------+---+-----+----+-----+------+-------------------------+------+----------------------+-------------+-------------+--------------------+-----------+\n",
            "|  date_rep|day|month|year|cases|deaths|countries_and_territories|geo_id|country_territory_code|pop_data_2018|continent_exp|           load_date|iso_country|\n",
            "+----------+---+-----+----+-----+------+-------------------------+------+----------------------+-------------+-------------+--------------------+-----------+\n",
            "|2020-12-14| 14|   12|2020|  746|     6|              Afghanistan|    AF|                   AFG|         null|         Asia|2021-06-22 00:05:...|         AF|\n",
            "|2020-12-13| 13|   12|2020|  298|     9|              Afghanistan|    AF|                   AFG|         null|         Asia|2021-06-22 00:05:...|         AF|\n",
            "|2020-12-12| 12|   12|2020|  113|    11|              Afghanistan|    AF|                   AFG|         null|         Asia|2021-06-22 00:05:...|         AF|\n",
            "|2020-12-11| 11|   12|2020|   63|    10|              Afghanistan|    AF|                   AFG|         null|         Asia|2021-06-22 00:05:...|         AF|\n",
            "|2020-12-10| 10|   12|2020|  202|    16|              Afghanistan|    AF|                   AFG|         null|         Asia|2021-06-22 00:05:...|         AF|\n",
            "|2020-12-09|  9|   12|2020|  135|    13|              Afghanistan|    AF|                   AFG|         null|         Asia|2021-06-22 00:05:...|         AF|\n",
            "|2020-12-08|  8|   12|2020|  200|     6|              Afghanistan|    AF|                   AFG|         null|         Asia|2021-06-22 00:05:...|         AF|\n",
            "|2020-12-07|  7|   12|2020|  210|    26|              Afghanistan|    AF|                   AFG|         null|         Asia|2021-06-22 00:05:...|         AF|\n",
            "|2020-12-06|  6|   12|2020|  234|    10|              Afghanistan|    AF|                   AFG|         null|         Asia|2021-06-22 00:05:...|         AF|\n",
            "|2020-12-05|  5|   12|2020|  235|    18|              Afghanistan|    AF|                   AFG|         null|         Asia|2021-06-22 00:05:...|         AF|\n",
            "|2020-12-04|  4|   12|2020|  119|     5|              Afghanistan|    AF|                   AFG|         null|         Asia|2021-06-22 00:05:...|         AF|\n",
            "|2020-12-03|  3|   12|2020|  202|    19|              Afghanistan|    AF|                   AFG|         null|         Asia|2021-06-22 00:05:...|         AF|\n",
            "|2020-12-02|  2|   12|2020|  400|    48|              Afghanistan|    AF|                   AFG|         null|         Asia|2021-06-22 00:05:...|         AF|\n",
            "|2020-12-01|  1|   12|2020|  272|    11|              Afghanistan|    AF|                   AFG|         null|         Asia|2021-06-22 00:05:...|         AF|\n",
            "|2020-11-30| 30|   11|2020|    0|     0|              Afghanistan|    AF|                   AFG|         null|         Asia|2021-06-22 00:05:...|         AF|\n",
            "|2020-11-29| 29|   11|2020|  228|    11|              Afghanistan|    AF|                   AFG|         null|         Asia|2021-06-22 00:05:...|         AF|\n",
            "|2020-11-28| 28|   11|2020|  214|    15|              Afghanistan|    AF|                   AFG|         null|         Asia|2021-06-22 00:05:...|         AF|\n",
            "|2020-11-27| 27|   11|2020|    0|     0|              Afghanistan|    AF|                   AFG|         null|         Asia|2021-06-22 00:05:...|         AF|\n",
            "|2020-11-26| 26|   11|2020|  200|    12|              Afghanistan|    AF|                   AFG|         null|         Asia|2021-06-22 00:05:...|         AF|\n",
            "|2020-11-25| 25|   11|2020|  185|    13|              Afghanistan|    AF|                   AFG|         null|         Asia|2021-06-22 00:05:...|         AF|\n",
            "+----------+---+-----+----+-----+------+-------------------------+------+----------------------+-------------+-------------+--------------------+-----------+\n",
            "only showing top 20 rows"
          ]
        }
      ],
      "execution_count": 5,
      "metadata": {
        "jupyter": {
          "source_hidden": false,
          "outputs_hidden": false
        },
        "nteract": {
          "transient": {
            "deleting": false
          }
        },
        "collapsed": false
      }
    },
    {
      "cell_type": "markdown",
      "source": [
        "# We will modify data to simulate a update/merge scenario\r\n",
        "Load date was initially on the 22nd of June (Column load_date)\r\n",
        "France had 0 Covid cases on the 15th of July but we will modify the result to simulate an update"
      ],
      "metadata": {
        "nteract": {
          "transient": {
            "deleting": false
          }
        }
      }
    },
    {
      "cell_type": "code",
      "source": [
        "from pyspark.sql.functions import col,lit,to_timestamp\r\n",
        "\r\n",
        "\r\n",
        "dfCovidDeltaFrance = dfCovidDelta.withColumn(\"cases\",lit(12)).withColumn(\"load_date\",to_timestamp(lit(\"2021-06-23 00:00:00.000\"),'yyyy-MM-dd HH:mm:ss.SSSS')).where(\"iso_country = 'FR' and date_rep = '2020-07-15'\")"
      ],
      "outputs": [
        {
          "output_type": "display_data",
          "data": {
            "application/vnd.livy.statement-meta+json": {
              "spark_pool": "smallPool",
              "session_id": 10,
              "statement_id": 6,
              "state": "finished",
              "livy_statement_state": "available",
              "queued_time": "2021-06-24T01:22:45.7434355Z",
              "session_start_time": null,
              "execution_start_time": "2021-06-24T01:26:37.457208Z",
              "execution_finish_time": "2021-06-24T01:26:39.5110119Z"
            },
            "text/plain": "StatementMeta(smallPool, 10, 6, Finished, Available)"
          },
          "metadata": {}
        },
        {
          "output_type": "stream",
          "name": "stdout",
          "text": []
        }
      ],
      "execution_count": 6,
      "metadata": {
        "jupyter": {
          "source_hidden": false,
          "outputs_hidden": false
        },
        "nteract": {
          "transient": {
            "deleting": false
          }
        },
        "collapsed": true
      }
    },
    {
      "cell_type": "code",
      "source": [
        "dfCovidDeltaFrance.write.format(\"delta\").mode(\"overwrite\").save(f\"{storagePath}/deltaMerge\")"
      ],
      "outputs": [
        {
          "output_type": "display_data",
          "data": {
            "application/vnd.livy.statement-meta+json": {
              "spark_pool": "smallPool",
              "session_id": 10,
              "statement_id": 7,
              "state": "finished",
              "livy_statement_state": "available",
              "queued_time": "2021-06-24T01:22:45.7456424Z",
              "session_start_time": null,
              "execution_start_time": "2021-06-24T01:26:39.6113361Z",
              "execution_finish_time": "2021-06-24T01:26:45.7751657Z"
            },
            "text/plain": "StatementMeta(smallPool, 10, 7, Finished, Available)"
          },
          "metadata": {}
        },
        {
          "output_type": "stream",
          "name": "stdout",
          "text": []
        }
      ],
      "execution_count": 7,
      "metadata": {
        "jupyter": {
          "source_hidden": false,
          "outputs_hidden": false
        },
        "nteract": {
          "transient": {
            "deleting": false
          }
        },
        "collapsed": true
      }
    },
    {
      "cell_type": "markdown",
      "source": [
        "# Data that will be used to merge our delta lake\r\n",
        "Cases have been set to 12 and load_date has been set to the 23rd of June for France"
      ],
      "metadata": {
        "nteract": {
          "transient": {
            "deleting": false
          }
        }
      }
    },
    {
      "cell_type": "code",
      "source": [
        "dfCovidDeltaFrance.show()"
      ],
      "outputs": [
        {
          "output_type": "display_data",
          "data": {
            "application/vnd.livy.statement-meta+json": {
              "spark_pool": "smallPool",
              "session_id": 10,
              "statement_id": 8,
              "state": "finished",
              "livy_statement_state": "available",
              "queued_time": "2021-06-24T01:22:45.7477475Z",
              "session_start_time": null,
              "execution_start_time": "2021-06-24T01:26:45.8832601Z",
              "execution_finish_time": "2021-06-24T01:26:47.9296412Z"
            },
            "text/plain": "StatementMeta(smallPool, 10, 8, Finished, Available)"
          },
          "metadata": {}
        },
        {
          "output_type": "stream",
          "name": "stdout",
          "text": [
            "+----------+---+-----+----+-----+------+-------------------------+------+----------------------+-------------+-------------+-------------------+-----------+\n",
            "|  date_rep|day|month|year|cases|deaths|countries_and_territories|geo_id|country_territory_code|pop_data_2018|continent_exp|          load_date|iso_country|\n",
            "+----------+---+-----+----+-----+------+-------------------------+------+----------------------+-------------+-------------+-------------------+-----------+\n",
            "|2020-07-15| 15|    7|2020|   12|     0|                   France|    FR|                   FRA|         null|       Europe|2021-06-23 00:00:00|         FR|\n",
            "+----------+---+-----+----+-----+------+-------------------------+------+----------------------+-------------+-------------+-------------------+-----------+"
          ]
        }
      ],
      "execution_count": 8,
      "metadata": {
        "jupyter": {
          "source_hidden": false,
          "outputs_hidden": false
        },
        "nteract": {
          "transient": {
            "deleting": false
          }
        },
        "collapsed": false
      }
    },
    {
      "cell_type": "markdown",
      "source": [
        "Show potential record difference between the former records (Delta Lake) and the upcoming record"
      ],
      "metadata": {
        "nteract": {
          "transient": {
            "deleting": false
          }
        }
      }
    },
    {
      "cell_type": "code",
      "source": [
        "dfDiff = dfCovidDelta.join(dfCovidDeltaFrance, (dfCovidDelta.date_rep ==  dfCovidDeltaFrance.date_rep) & (dfCovidDelta.iso_country == dfCovidDeltaFrance.iso_country) & (dfCovidDelta.cases !=  dfCovidDeltaFrance.cases)).select(\"*\")"
      ],
      "outputs": [
        {
          "output_type": "display_data",
          "data": {
            "application/vnd.livy.statement-meta+json": {
              "spark_pool": "smallPool",
              "session_id": 10,
              "statement_id": 9,
              "state": "finished",
              "livy_statement_state": "available",
              "queued_time": "2021-06-24T01:22:45.7499313Z",
              "session_start_time": null,
              "execution_start_time": "2021-06-24T01:26:48.0401322Z",
              "execution_finish_time": "2021-06-24T01:26:50.115388Z"
            },
            "text/plain": "StatementMeta(smallPool, 10, 9, Finished, Available)"
          },
          "metadata": {}
        },
        {
          "output_type": "stream",
          "name": "stdout",
          "text": []
        }
      ],
      "execution_count": 9,
      "metadata": {
        "jupyter": {
          "source_hidden": false,
          "outputs_hidden": false
        },
        "nteract": {
          "transient": {
            "deleting": false
          }
        },
        "collapsed": true
      }
    },
    {
      "cell_type": "code",
      "source": [
        "dfDiff.show()"
      ],
      "outputs": [
        {
          "output_type": "display_data",
          "data": {
            "application/vnd.livy.statement-meta+json": {
              "spark_pool": "smallPool",
              "session_id": 10,
              "statement_id": 10,
              "state": "finished",
              "livy_statement_state": "available",
              "queued_time": "2021-06-24T01:22:45.7523934Z",
              "session_start_time": null,
              "execution_start_time": "2021-06-24T01:26:50.2180773Z",
              "execution_finish_time": "2021-06-24T01:26:54.3748075Z"
            },
            "text/plain": "StatementMeta(smallPool, 10, 10, Finished, Available)"
          },
          "metadata": {}
        },
        {
          "output_type": "stream",
          "name": "stdout",
          "text": [
            "+----------+---+-----+----+-----+------+-------------------------+------+----------------------+-------------+-------------+--------------------+-----------+----------+---+-----+----+-----+------+-------------------------+------+----------------------+-------------+-------------+-------------------+-----------+\n",
            "|  date_rep|day|month|year|cases|deaths|countries_and_territories|geo_id|country_territory_code|pop_data_2018|continent_exp|           load_date|iso_country|  date_rep|day|month|year|cases|deaths|countries_and_territories|geo_id|country_territory_code|pop_data_2018|continent_exp|          load_date|iso_country|\n",
            "+----------+---+-----+----+-----+------+-------------------------+------+----------------------+-------------+-------------+--------------------+-----------+----------+---+-----+----+-----+------+-------------------------+------+----------------------+-------------+-------------+-------------------+-----------+\n",
            "|2020-07-15| 15|    7|2020|    0|     0|                   France|    FR|                   FRA|         null|       Europe|2021-06-22 00:05:...|         FR|2020-07-15| 15|    7|2020|   12|     0|                   France|    FR|                   FRA|         null|       Europe|2021-06-23 00:00:00|         FR|\n",
            "+----------+---+-----+----+-----+------+-------------------------+------+----------------------+-------------+-------------+--------------------+-----------+----------+---+-----+----+-----+------+-------------------------+------+----------------------+-------------+-------------+-------------------+-----------+"
          ]
        }
      ],
      "execution_count": 10,
      "metadata": {
        "jupyter": {
          "source_hidden": false,
          "outputs_hidden": false
        },
        "nteract": {
          "transient": {
            "deleting": false
          }
        },
        "collapsed": false
      }
    },
    {
      "cell_type": "code",
      "source": [
        "from delta.tables import *\r\n",
        "\r\n",
        "deltaCovidTable = DeltaTable.forPath(spark,f\"{storagePath}/delta\")"
      ],
      "outputs": [
        {
          "output_type": "display_data",
          "data": {
            "application/vnd.livy.statement-meta+json": {
              "spark_pool": "smallPool",
              "session_id": 10,
              "statement_id": 11,
              "state": "finished",
              "livy_statement_state": "available",
              "queued_time": "2021-06-24T01:22:45.7547003Z",
              "session_start_time": null,
              "execution_start_time": "2021-06-24T01:26:54.4907951Z",
              "execution_finish_time": "2021-06-24T01:26:56.5629046Z"
            },
            "text/plain": "StatementMeta(smallPool, 10, 11, Finished, Available)"
          },
          "metadata": {}
        },
        {
          "output_type": "stream",
          "name": "stdout",
          "text": []
        }
      ],
      "execution_count": 11,
      "metadata": {
        "jupyter": {
          "source_hidden": false,
          "outputs_hidden": false
        },
        "nteract": {
          "transient": {
            "deleting": false
          }
        },
        "collapsed": true
      }
    },
    {
      "cell_type": "markdown",
      "source": [
        "# Create a Delta table from former storage location\r\n",
        "France on the 15th of July had 0 case"
      ],
      "metadata": {
        "nteract": {
          "transient": {
            "deleting": false
          }
        }
      }
    },
    {
      "cell_type": "code",
      "source": [
        "deltaCovidTable.toDF().where(\"iso_country = 'FR' and date_rep = '2020-07-15'\").show()"
      ],
      "outputs": [
        {
          "output_type": "display_data",
          "data": {
            "application/vnd.livy.statement-meta+json": {
              "spark_pool": "smallPool",
              "session_id": 10,
              "statement_id": 12,
              "state": "finished",
              "livy_statement_state": "available",
              "queued_time": "2021-06-24T01:22:45.7566916Z",
              "session_start_time": null,
              "execution_start_time": "2021-06-24T01:26:56.6829186Z",
              "execution_finish_time": "2021-06-24T01:26:58.7459819Z"
            },
            "text/plain": "StatementMeta(smallPool, 10, 12, Finished, Available)"
          },
          "metadata": {}
        },
        {
          "output_type": "stream",
          "name": "stdout",
          "text": [
            "+----------+---+-----+----+-----+------+-------------------------+------+----------------------+-------------+-------------+--------------------+-----------+\n",
            "|  date_rep|day|month|year|cases|deaths|countries_and_territories|geo_id|country_territory_code|pop_data_2018|continent_exp|           load_date|iso_country|\n",
            "+----------+---+-----+----+-----+------+-------------------------+------+----------------------+-------------+-------------+--------------------+-----------+\n",
            "|2020-07-15| 15|    7|2020|    0|     0|                   France|    FR|                   FRA|         null|       Europe|2021-06-22 00:05:...|         FR|\n",
            "+----------+---+-----+----+-----+------+-------------------------+------+----------------------+-------------+-------------+--------------------+-----------+"
          ]
        }
      ],
      "execution_count": 12,
      "metadata": {
        "jupyter": {
          "source_hidden": false,
          "outputs_hidden": false
        },
        "nteract": {
          "transient": {
            "deleting": false
          }
        },
        "collapsed": false
      }
    },
    {
      "cell_type": "markdown",
      "source": [
        "# Merge operation\r\n",
        "We merge on the colums load_date and country and decide to save data using the updated record"
      ],
      "metadata": {
        "nteract": {
          "transient": {
            "deleting": false
          }
        }
      }
    },
    {
      "cell_type": "code",
      "source": [
        "\r\n",
        "\r\n",
        "\r\n",
        "deltaCovidTable.alias(\"deltaLake\").merge(dfCovidDeltaFrance.alias(\"dataUpdate\"),condition=\"deltaLake.date_rep = dataUpdate.date_rep and deltaLake.iso_country = dataUpdate.iso_country\").whenMatchedUpdate(set = {\"cases\":\"dataUpdate.cases\",\"load_date\": \"dataUpdate.load_date\"}).execute()\r\n"
      ],
      "outputs": [
        {
          "output_type": "display_data",
          "data": {
            "application/vnd.livy.statement-meta+json": {
              "spark_pool": "smallPool",
              "session_id": 10,
              "statement_id": 13,
              "state": "finished",
              "livy_statement_state": "available",
              "queued_time": "2021-06-24T01:22:45.7589235Z",
              "session_start_time": null,
              "execution_start_time": "2021-06-24T01:26:58.8560259Z",
              "execution_finish_time": "2021-06-24T01:27:13.3259735Z"
            },
            "text/plain": "StatementMeta(smallPool, 10, 13, Finished, Available)"
          },
          "metadata": {}
        },
        {
          "output_type": "stream",
          "name": "stdout",
          "text": []
        }
      ],
      "execution_count": 13,
      "metadata": {
        "jupyter": {
          "source_hidden": false,
          "outputs_hidden": false
        },
        "nteract": {
          "transient": {
            "deleting": false
          }
        },
        "collapsed": true
      }
    },
    {
      "cell_type": "markdown",
      "source": [
        "After the merge our Delta Lake for France on the 15th of July has 12 cases and load_date has been updated to 23rd of June"
      ],
      "metadata": {
        "nteract": {
          "transient": {
            "deleting": false
          }
        }
      }
    },
    {
      "cell_type": "code",
      "source": [
        "deltaCovidTable.toDF().where(\"date_rep = '2020-07-15' and iso_country='FR'\").show()"
      ],
      "outputs": [
        {
          "output_type": "display_data",
          "data": {
            "application/vnd.livy.statement-meta+json": {
              "spark_pool": "smallPool",
              "session_id": 10,
              "statement_id": 14,
              "state": "finished",
              "livy_statement_state": "available",
              "queued_time": "2021-06-24T01:22:45.7608008Z",
              "session_start_time": null,
              "execution_start_time": "2021-06-24T01:27:13.4215261Z",
              "execution_finish_time": "2021-06-24T01:27:15.4905188Z"
            },
            "text/plain": "StatementMeta(smallPool, 10, 14, Finished, Available)"
          },
          "metadata": {}
        },
        {
          "output_type": "stream",
          "name": "stdout",
          "text": [
            "+----------+---+-----+----+-----+------+-------------------------+------+----------------------+-------------+-------------+-------------------+-----------+\n",
            "|  date_rep|day|month|year|cases|deaths|countries_and_territories|geo_id|country_territory_code|pop_data_2018|continent_exp|          load_date|iso_country|\n",
            "+----------+---+-----+----+-----+------+-------------------------+------+----------------------+-------------+-------------+-------------------+-----------+\n",
            "|2020-07-15| 15|    7|2020|   12|     0|                   France|    FR|                   FRA|         null|       Europe|2021-06-23 00:00:00|         FR|\n",
            "+----------+---+-----+----+-----+------+-------------------------+------+----------------------+-------------+-------------+-------------------+-----------+"
          ]
        }
      ],
      "execution_count": 14,
      "metadata": {
        "jupyter": {
          "source_hidden": false,
          "outputs_hidden": false
        },
        "nteract": {
          "transient": {
            "deleting": false
          }
        },
        "collapsed": false
      }
    },
    {
      "cell_type": "markdown",
      "source": [
        "Only record forFrance on the 15th of july has been modified"
      ],
      "metadata": {
        "nteract": {
          "transient": {
            "deleting": false
          }
        }
      }
    },
    {
      "cell_type": "code",
      "source": [
        "deltaCovidTable.toDF().where(\"date_rep = '2020-07-15'\").show()"
      ],
      "outputs": [
        {
          "output_type": "display_data",
          "data": {
            "application/vnd.livy.statement-meta+json": {
              "spark_pool": "smallPool",
              "session_id": 10,
              "statement_id": 15,
              "state": "finished",
              "livy_statement_state": "available",
              "queued_time": "2021-06-24T01:22:45.7624818Z",
              "session_start_time": null,
              "execution_start_time": "2021-06-24T01:27:15.6074257Z",
              "execution_finish_time": "2021-06-24T01:27:17.6672546Z"
            },
            "text/plain": "StatementMeta(smallPool, 10, 15, Finished, Available)"
          },
          "metadata": {}
        },
        {
          "output_type": "stream",
          "name": "stdout",
          "text": [
            "+----------+---+-----+----+-----+------+-------------------------+------+----------------------+-------------+-------------+--------------------+-----------+\n",
            "|  date_rep|day|month|year|cases|deaths|countries_and_territories|geo_id|country_territory_code|pop_data_2018|continent_exp|           load_date|iso_country|\n",
            "+----------+---+-----+----+-----+------+-------------------------+------+----------------------+-------------+-------------+--------------------+-----------+\n",
            "|2020-07-15| 15|    7|2020|  285|    33|              Afghanistan|    AF|                   AFG|         null|         Asia|2021-06-22 00:05:...|         AF|\n",
            "|2020-07-15| 15|    7|2020|   96|     2|                  Albania|    AL|                   ALB|         null|       Europe|2021-06-22 00:05:...|         AL|\n",
            "|2020-07-15| 15|    7|2020|  527|    10|                  Algeria|    DZ|                   DZA|         null|       Africa|2021-06-22 00:05:...|         DZ|\n",
            "|2020-07-15| 15|    7|2020|    3|     0|                  Andorra|    AD|                   AND|         null|       Europe|2021-06-22 00:05:...|         AD|\n",
            "|2020-07-15| 15|    7|2020|   19|     0|                   Angola|    AO|                   AGO|         null|       Africa|2021-06-22 00:05:...|         AO|\n",
            "|2020-07-15| 15|    7|2020|    0|     0|                 Anguilla|    AI|                   AIA|         null|      America|2021-06-22 00:05:...|         AI|\n",
            "|2020-07-15| 15|    7|2020|    0|     0|      Antigua_and_Barbuda|    AG|                   ATG|         null|      America|2021-06-22 00:05:...|         AG|\n",
            "|2020-07-15| 15|    7|2020| 3099|    23|                Argentina|    AR|                   ARG|         null|      America|2021-06-22 00:05:...|         AR|\n",
            "|2020-07-15| 15|    7|2020|  515|    11|                  Armenia|    AM|                   ARM|         null|       Europe|2021-06-22 00:05:...|         AM|\n",
            "|2020-07-15| 15|    7|2020|    1|     0|                    Aruba|    AW|                   ABW|         null|      America|2021-06-22 00:05:...|         AW|\n",
            "|2020-07-15| 15|    7|2020|  271|     0|                Australia|    AU|                   AUS|         null|      Oceania|2021-06-22 00:05:...|         AU|\n",
            "|2020-07-15| 15|    7|2020|  201|     1|                  Austria|    AT|                   AUT|         null|       Europe|2021-06-22 00:05:...|         AT|\n",
            "|2020-07-15| 15|    7|2020|  543|     6|               Azerbaijan|    AZ|                   AZE|         null|       Europe|2021-06-22 00:05:...|         AZ|\n",
            "|2020-07-15| 15|    7|2020|    3|     0|                  Bahamas|    BS|                   BHS|         null|      America|2021-06-22 00:05:...|         BS|\n",
            "|2020-07-15| 15|    7|2020|  602|     2|                  Bahrain|    BH|                   BHR|         null|         Asia|2021-06-22 00:05:...|         BH|\n",
            "|2020-07-15| 15|    7|2020| 3163|    33|               Bangladesh|    BD|                   BGD|         null|         Asia|2021-06-22 00:05:...|         BD|\n",
            "|2020-07-15| 15|    7|2020|    0|     0|                 Barbados|    BB|                   BRB|         null|      America|2021-06-22 00:05:...|         BB|\n",
            "|2020-07-15| 15|    7|2020|  155|     6|                  Belarus|    BY|                   BLR|         null|       Europe|2021-06-22 00:05:...|         BY|\n",
            "|2020-07-15| 15|    7|2020|  207|     3|                  Belgium|    BE|                   BEL|         null|       Europe|2021-06-22 00:05:...|         BE|\n",
            "|2020-07-15| 15|    7|2020|    2|     0|                   Belize|    BZ|                   BLZ|         null|      America|2021-06-22 00:05:...|         BZ|\n",
            "+----------+---+-----+----+-----+------+-------------------------+------+----------------------+-------------+-------------+--------------------+-----------+\n",
            "only showing top 20 rows"
          ]
        }
      ],
      "execution_count": 15,
      "metadata": {
        "jupyter": {
          "source_hidden": false,
          "outputs_hidden": false
        },
        "nteract": {
          "transient": {
            "deleting": false
          }
        },
        "collapsed": false
      }
    }
  ],
  "metadata": {
    "kernelspec": {
      "name": "synapse_pyspark",
      "language": "Python",
      "display_name": "Synapse PySpark"
    },
    "language_info": {
      "name": "python"
    },
    "kernel_info": {
      "name": "synapse_pyspark"
    },
    "save_output": true,
    "synapse_widget": {
      "version": "0.1",
      "state": {}
    }
  },
  "nbformat": 4,
  "nbformat_minor": 2
}