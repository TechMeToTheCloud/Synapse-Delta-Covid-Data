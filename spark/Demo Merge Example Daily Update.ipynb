{
  "cells": [
    {
      "cell_type": "markdown",
      "source": [
        "# Load the daily updated dataset"
      ],
      "metadata": {
        "nteract": {
          "transient": {
            "deleting": false
          }
        }
      }
    },
    {
      "cell_type": "code",
      "source": [
        "# Azure storage access info\r\n",
        "blob_account_name = \"pandemicdatalake\"\r\n",
        "blob_container_name = \"public\"\r\n",
        "blob_relative_path = \"curated/covid-19/ecdc_cases/latest/ecdc_cases.parquet\"\r\n",
        "blob_sas_token = r\"\"\r\n",
        "\r\n",
        "# Allow SPARK to read from Blob remotely\r\n",
        "wasbs_path = 'wasbs://%s@%s.blob.core.windows.net/%s' % (blob_container_name, blob_account_name, blob_relative_path)\r\n",
        "spark.conf.set(\r\n",
        "  'fs.azure.sas.%s.%s.blob.core.windows.net' % (blob_container_name, blob_account_name),\r\n",
        "  blob_sas_token)\r\n",
        "print('Remote blob path: ' + wasbs_path)\r\n",
        "\r\n",
        "# SPARK read parquet, note that it won't load any data yet by now\r\n",
        "df = spark.read.parquet(wasbs_path)\r\n",
        "print('Register the DataFrame as a SQL temporary view: source')\r\n",
        "df.createOrReplaceTempView('source')\r\n",
        "\r\n",
        "# Display top 10 rows\r\n",
        "print('Displaying top 10 rows: ')\r\n",
        "display(spark.sql('SELECT * FROM source LIMIT 10'))"
      ],
      "outputs": [
        {
          "output_type": "display_data",
          "data": {
            "application/vnd.livy.statement-meta+json": {
              "spark_pool": "smallPool",
              "session_id": 12,
              "statement_id": 46,
              "state": "finished",
              "livy_statement_state": "available",
              "queued_time": "2021-07-06T20:36:09.4828146Z",
              "session_start_time": null,
              "execution_start_time": "2021-07-06T20:36:09.5878347Z",
              "execution_finish_time": "2021-07-06T20:36:11.6567788Z"
            },
            "text/plain": "StatementMeta(smallPool, 12, 46, Finished, Available)"
          },
          "metadata": {}
        },
        {
          "output_type": "stream",
          "name": "stdout",
          "text": [
            "Remote blob path: wasbs://public@pandemicdatalake.blob.core.windows.net/curated/covid-19/ecdc_cases/latest/ecdc_cases.parquet\n",
            "Register the DataFrame as a SQL temporary view: source\n",
            "Displaying top 10 rows: \n"
          ]
        },
        {
          "output_type": "display_data",
          "data": {
            "application/vnd.synapse.widget-view+json": {
              "widget_id": "c3d45b38-6ec6-448e-a681-618061a25136",
              "widget_type": "Synapse.DataFrame"
            },
            "text/plain": "SynapseWidget(Synapse.DataFrame, c3d45b38-6ec6-448e-a681-618061a25136)"
          },
          "metadata": {}
        },
        {
          "output_type": "execute_result",
          "execution_count": 46,
          "data": {},
          "metadata": {}
        }
      ],
      "execution_count": 46,
      "metadata": {}
    },
    {
      "cell_type": "code",
      "source": [
        "spark.sql('SELECT * FROM source order by date_rep desc LIMIT 10').show(vertical=True)"
      ],
      "outputs": [
        {
          "output_type": "display_data",
          "data": {
            "application/vnd.livy.statement-meta+json": {
              "spark_pool": "smallPool",
              "session_id": 12,
              "statement_id": 47,
              "state": "finished",
              "livy_statement_state": "available",
              "queued_time": "2021-07-06T20:36:16.5036993Z",
              "session_start_time": null,
              "execution_start_time": "2021-07-06T20:36:16.6040457Z",
              "execution_finish_time": "2021-07-06T20:36:18.6586284Z"
            },
            "text/plain": "StatementMeta(smallPool, 12, 47, Finished, Available)"
          },
          "metadata": {}
        },
        {
          "output_type": "stream",
          "name": "stdout",
          "text": [
            "-RECORD 0-----------------------------------------\n",
            " date_rep                  | 2020-12-14           \n",
            " day                       | 14                   \n",
            " month                     | 12                   \n",
            " year                      | 2020                 \n",
            " cases                     | 0                    \n",
            " deaths                    | 0                    \n",
            " countries_and_territories | Anguilla             \n",
            " geo_id                    | AI                   \n",
            " country_territory_code    | AIA                  \n",
            " pop_data_2018             | null                 \n",
            " continent_exp             | America              \n",
            " load_date                 | 2021-07-06 00:07:... \n",
            " iso_country               | AI                   \n",
            "-RECORD 1-----------------------------------------\n",
            " date_rep                  | 2020-12-14           \n",
            " day                       | 14                   \n",
            " month                     | 12                   \n",
            " year                      | 2020                 \n",
            " cases                     | 178                  \n",
            " deaths                    | 0                    \n",
            " countries_and_territories | Bahrain              \n",
            " geo_id                    | BH                   \n",
            " country_territory_code    | BHR                  \n",
            " pop_data_2018             | null                 \n",
            " continent_exp             | Asia                 \n",
            " load_date                 | 2021-07-06 00:07:... \n",
            " iso_country               | BH                   \n",
            "-RECORD 2-----------------------------------------\n",
            " date_rep                  | 2020-12-14           \n",
            " day                       | 14                   \n",
            " month                     | 12                   \n",
            " year                      | 2020                 \n",
            " cases                     | 0                    \n",
            " deaths                    | 0                    \n",
            " countries_and_territories | Antigua_and_Barbuda  \n",
            " geo_id                    | AG                   \n",
            " country_territory_code    | ATG                  \n",
            " pop_data_2018             | null                 \n",
            " continent_exp             | America              \n",
            " load_date                 | 2021-07-06 00:07:... \n",
            " iso_country               | AG                   \n",
            "-RECORD 3-----------------------------------------\n",
            " date_rep                  | 2020-12-14           \n",
            " day                       | 14                   \n",
            " month                     | 12                   \n",
            " year                      | 2020                 \n",
            " cases                     | 464                  \n",
            " deaths                    | 12                   \n",
            " countries_and_territories | Algeria              \n",
            " geo_id                    | DZ                   \n",
            " country_territory_code    | DZA                  \n",
            " pop_data_2018             | null                 \n",
            " continent_exp             | Africa               \n",
            " load_date                 | 2021-07-06 00:07:... \n",
            " iso_country               | DZ                   \n",
            "-RECORD 4-----------------------------------------\n",
            " date_rep                  | 2020-12-14           \n",
            " day                       | 14                   \n",
            " month                     | 12                   \n",
            " year                      | 2020                 \n",
            " cases                     | 3558                 \n",
            " deaths                    | 98                   \n",
            " countries_and_territories | Argentina            \n",
            " geo_id                    | AR                   \n",
            " country_territory_code    | ARG                  \n",
            " pop_data_2018             | null                 \n",
            " continent_exp             | America              \n",
            " load_date                 | 2021-07-06 00:07:... \n",
            " iso_country               | AR                   \n",
            "-RECORD 5-----------------------------------------\n",
            " date_rep                  | 2020-12-14           \n",
            " day                       | 14                   \n",
            " month                     | 12                   \n",
            " year                      | 2020                 \n",
            " cases                     | 50                   \n",
            " deaths                    | 1                    \n",
            " countries_and_territories | Andorra              \n",
            " geo_id                    | AD                   \n",
            " country_territory_code    | AND                  \n",
            " pop_data_2018             | null                 \n",
            " continent_exp             | Europe               \n",
            " load_date                 | 2021-07-06 00:07:... \n",
            " iso_country               | AD                   \n",
            "-RECORD 6-----------------------------------------\n",
            " date_rep                  | 2020-12-14           \n",
            " day                       | 14                   \n",
            " month                     | 12                   \n",
            " year                      | 2020                 \n",
            " cases                     | 357                  \n",
            " deaths                    | 17                   \n",
            " countries_and_territories | Armenia              \n",
            " geo_id                    | AM                   \n",
            " country_territory_code    | ARM                  \n",
            " pop_data_2018             | null                 \n",
            " continent_exp             | Europe               \n",
            " load_date                 | 2021-07-06 00:07:... \n",
            " iso_country               | AM                   \n",
            "-RECORD 7-----------------------------------------\n",
            " date_rep                  | 2020-12-14           \n",
            " day                       | 14                   \n",
            " month                     | 12                   \n",
            " year                      | 2020                 \n",
            " cases                     | 6                    \n",
            " deaths                    | 0                    \n",
            " countries_and_territories | Australia            \n",
            " geo_id                    | AU                   \n",
            " country_territory_code    | AUS                  \n",
            " pop_data_2018             | null                 \n",
            " continent_exp             | Oceania              \n",
            " load_date                 | 2021-07-06 00:07:... \n",
            " iso_country               | AU                   \n",
            "-RECORD 8-----------------------------------------\n",
            " date_rep                  | 2020-12-14           \n",
            " day                       | 14                   \n",
            " month                     | 12                   \n",
            " year                      | 2020                 \n",
            " cases                     | 15                   \n",
            " deaths                    | 0                    \n",
            " countries_and_territories | Bahamas              \n",
            " geo_id                    | BS                   \n",
            " country_territory_code    | BHS                  \n",
            " pop_data_2018             | null                 \n",
            " continent_exp             | America              \n",
            " load_date                 | 2021-07-06 00:07:... \n",
            " iso_country               | BS                   \n",
            "-RECORD 9-----------------------------------------\n",
            " date_rep                  | 2020-12-14           \n",
            " day                       | 14                   \n",
            " month                     | 12                   \n",
            " year                      | 2020                 \n",
            " cases                     | 3005                 \n",
            " deaths                    | 45                   \n",
            " countries_and_territories | Austria              \n",
            " geo_id                    | AT                   \n",
            " country_territory_code    | AUT                  \n",
            " pop_data_2018             | null                 \n",
            " continent_exp             | Europe               \n",
            " load_date                 | 2021-07-06 00:07:... \n",
            " iso_country               | AT"
          ]
        }
      ],
      "execution_count": 47,
      "metadata": {
        "collapsed": false,
        "jupyter": {
          "source_hidden": false,
          "outputs_hidden": false
        },
        "nteract": {
          "transient": {
            "deleting": false
          }
        }
      }
    },
    {
      "cell_type": "code",
      "source": [
        "df.count()"
      ],
      "outputs": [
        {
          "output_type": "display_data",
          "data": {
            "application/vnd.livy.statement-meta+json": {
              "spark_pool": "smallPool",
              "session_id": 12,
              "statement_id": 48,
              "state": "finished",
              "livy_statement_state": "available",
              "queued_time": "2021-07-06T20:36:38.8969454Z",
              "session_start_time": null,
              "execution_start_time": "2021-07-06T20:36:39.0065582Z",
              "execution_finish_time": "2021-07-06T20:36:41.0785192Z"
            },
            "text/plain": "StatementMeta(smallPool, 12, 48, Finished, Available)"
          },
          "metadata": {}
        },
        {
          "output_type": "stream",
          "name": "stdout",
          "text": [
            "61900"
          ]
        }
      ],
      "execution_count": 48,
      "metadata": {
        "collapsed": true,
        "jupyter": {
          "source_hidden": false,
          "outputs_hidden": false
        },
        "nteract": {
          "transient": {
            "deleting": false
          }
        }
      }
    },
    {
      "cell_type": "markdown",
      "source": [
        "61900 records in total in our updated dataset and the load date is 6th of July in this case"
      ],
      "metadata": {
        "nteract": {
          "transient": {
            "deleting": false
          }
        }
      }
    },
    {
      "cell_type": "markdown",
      "source": [
        "# Existing Datalake (dataset uploaded on the 22nd of June 2021)"
      ],
      "metadata": {
        "nteract": {
          "transient": {
            "deleting": false
          }
        }
      }
    },
    {
      "cell_type": "markdown",
      "source": [
        "Setup the path location where the parquet file is stored"
      ],
      "metadata": {
        "nteract": {
          "transient": {
            "deleting": false
          }
        }
      }
    },
    {
      "cell_type": "code",
      "source": [
        "storagePath = \"abfss://churning@churninge2edemo.dfs.core.windows.net/synapse/tables/covid\""
      ],
      "outputs": [
        {
          "output_type": "display_data",
          "data": {
            "application/vnd.livy.statement-meta+json": {
              "spark_pool": "smallPool",
              "session_id": 12,
              "statement_id": 51,
              "state": "finished",
              "livy_statement_state": "available",
              "queued_time": "2021-07-06T20:41:47.0769294Z",
              "session_start_time": null,
              "execution_start_time": "2021-07-06T20:41:47.1826944Z",
              "execution_finish_time": "2021-07-06T20:41:49.2354644Z"
            },
            "text/plain": "StatementMeta(smallPool, 12, 51, Finished, Available)"
          },
          "metadata": {}
        },
        {
          "output_type": "stream",
          "name": "stdout",
          "text": []
        }
      ],
      "execution_count": 51,
      "metadata": {
        "collapsed": true,
        "jupyter": {
          "source_hidden": false,
          "outputs_hidden": false
        },
        "nteract": {
          "transient": {
            "deleting": false
          }
        }
      }
    },
    {
      "cell_type": "code",
      "source": [
        "dfcovidParquet = spark.read.load(f\"{storagePath}/ecdc_cases.parquet\", format=\"parquet\")"
      ],
      "outputs": [
        {
          "output_type": "display_data",
          "data": {
            "application/vnd.livy.statement-meta+json": {
              "spark_pool": "smallPool",
              "session_id": 12,
              "statement_id": 52,
              "state": "finished",
              "livy_statement_state": "available",
              "queued_time": "2021-07-06T20:41:52.6552123Z",
              "session_start_time": null,
              "execution_start_time": "2021-07-06T20:41:52.7583203Z",
              "execution_finish_time": "2021-07-06T20:42:01.0115389Z"
            },
            "text/plain": "StatementMeta(smallPool, 12, 52, Finished, Available)"
          },
          "metadata": {}
        },
        {
          "output_type": "stream",
          "name": "stdout",
          "text": []
        }
      ],
      "execution_count": 52,
      "metadata": {
        "collapsed": true,
        "jupyter": {
          "source_hidden": false,
          "outputs_hidden": false
        },
        "nteract": {
          "transient": {
            "deleting": false
          }
        }
      }
    },
    {
      "cell_type": "markdown",
      "source": [
        "# Convert the parquet file to delta"
      ],
      "metadata": {
        "nteract": {
          "transient": {
            "deleting": false
          }
        }
      }
    },
    {
      "cell_type": "code",
      "source": [
        "dfcovidParquet.write.format(\"delta\").mode(\"overwrite\").save(f\"{storagePath}/delta\")"
      ],
      "outputs": [
        {
          "output_type": "display_data",
          "data": {
            "application/vnd.livy.statement-meta+json": {
              "spark_pool": "smallPool",
              "session_id": 12,
              "statement_id": 53,
              "state": "finished",
              "livy_statement_state": "available",
              "queued_time": "2021-07-06T20:42:10.0879355Z",
              "session_start_time": null,
              "execution_start_time": "2021-07-06T20:42:10.2042394Z",
              "execution_finish_time": "2021-07-06T20:42:47.3094411Z"
            },
            "text/plain": "StatementMeta(smallPool, 12, 53, Finished, Available)"
          },
          "metadata": {}
        },
        {
          "output_type": "stream",
          "name": "stdout",
          "text": []
        }
      ],
      "execution_count": 53,
      "metadata": {
        "collapsed": true,
        "jupyter": {
          "source_hidden": false,
          "outputs_hidden": false
        },
        "nteract": {
          "transient": {
            "deleting": false
          }
        }
      }
    },
    {
      "cell_type": "code",
      "source": [
        "dfCovidDelta =  spark.read.load(f\"{storagePath}/delta\", format=\"delta\")"
      ],
      "outputs": [
        {
          "output_type": "display_data",
          "data": {
            "application/vnd.livy.statement-meta+json": {
              "spark_pool": "smallPool",
              "session_id": 12,
              "statement_id": 54,
              "state": "finished",
              "livy_statement_state": "available",
              "queued_time": "2021-07-06T20:42:52.6144839Z",
              "session_start_time": null,
              "execution_start_time": "2021-07-06T20:42:52.736777Z",
              "execution_finish_time": "2021-07-06T20:42:54.8041079Z"
            },
            "text/plain": "StatementMeta(smallPool, 12, 54, Finished, Available)"
          },
          "metadata": {}
        },
        {
          "output_type": "stream",
          "name": "stdout",
          "text": []
        }
      ],
      "execution_count": 54,
      "metadata": {
        "collapsed": true,
        "jupyter": {
          "source_hidden": false,
          "outputs_hidden": false
        },
        "nteract": {
          "transient": {
            "deleting": false
          }
        }
      }
    },
    {
      "cell_type": "code",
      "source": [
        "dfCovidDelta.show(vertical=True)"
      ],
      "outputs": [
        {
          "output_type": "display_data",
          "data": {
            "application/vnd.livy.statement-meta+json": {
              "spark_pool": "smallPool",
              "session_id": 12,
              "statement_id": 55,
              "state": "finished",
              "livy_statement_state": "available",
              "queued_time": "2021-07-06T20:43:13.0227981Z",
              "session_start_time": null,
              "execution_start_time": "2021-07-06T20:43:13.1297161Z",
              "execution_finish_time": "2021-07-06T20:43:15.2072496Z"
            },
            "text/plain": "StatementMeta(smallPool, 12, 55, Finished, Available)"
          },
          "metadata": {}
        },
        {
          "output_type": "stream",
          "name": "stdout",
          "text": [
            "-RECORD 0-----------------------------------------\n",
            " date_rep                  | 2020-12-14           \n",
            " day                       | 14                   \n",
            " month                     | 12                   \n",
            " year                      | 2020                 \n",
            " cases                     | 746                  \n",
            " deaths                    | 6                    \n",
            " countries_and_territories | Afghanistan          \n",
            " geo_id                    | AF                   \n",
            " country_territory_code    | AFG                  \n",
            " pop_data_2018             | null                 \n",
            " continent_exp             | Asia                 \n",
            " load_date                 | 2021-06-22 00:05:... \n",
            " iso_country               | AF                   \n",
            "-RECORD 1-----------------------------------------\n",
            " date_rep                  | 2020-12-13           \n",
            " day                       | 13                   \n",
            " month                     | 12                   \n",
            " year                      | 2020                 \n",
            " cases                     | 298                  \n",
            " deaths                    | 9                    \n",
            " countries_and_territories | Afghanistan          \n",
            " geo_id                    | AF                   \n",
            " country_territory_code    | AFG                  \n",
            " pop_data_2018             | null                 \n",
            " continent_exp             | Asia                 \n",
            " load_date                 | 2021-06-22 00:05:... \n",
            " iso_country               | AF                   \n",
            "-RECORD 2-----------------------------------------\n",
            " date_rep                  | 2020-12-12           \n",
            " day                       | 12                   \n",
            " month                     | 12                   \n",
            " year                      | 2020                 \n",
            " cases                     | 113                  \n",
            " deaths                    | 11                   \n",
            " countries_and_territories | Afghanistan          \n",
            " geo_id                    | AF                   \n",
            " country_territory_code    | AFG                  \n",
            " pop_data_2018             | null                 \n",
            " continent_exp             | Asia                 \n",
            " load_date                 | 2021-06-22 00:05:... \n",
            " iso_country               | AF                   \n",
            "-RECORD 3-----------------------------------------\n",
            " date_rep                  | 2020-12-11           \n",
            " day                       | 11                   \n",
            " month                     | 12                   \n",
            " year                      | 2020                 \n",
            " cases                     | 63                   \n",
            " deaths                    | 10                   \n",
            " countries_and_territories | Afghanistan          \n",
            " geo_id                    | AF                   \n",
            " country_territory_code    | AFG                  \n",
            " pop_data_2018             | null                 \n",
            " continent_exp             | Asia                 \n",
            " load_date                 | 2021-06-22 00:05:... \n",
            " iso_country               | AF                   \n",
            "-RECORD 4-----------------------------------------\n",
            " date_rep                  | 2020-12-10           \n",
            " day                       | 10                   \n",
            " month                     | 12                   \n",
            " year                      | 2020                 \n",
            " cases                     | 202                  \n",
            " deaths                    | 16                   \n",
            " countries_and_territories | Afghanistan          \n",
            " geo_id                    | AF                   \n",
            " country_territory_code    | AFG                  \n",
            " pop_data_2018             | null                 \n",
            " continent_exp             | Asia                 \n",
            " load_date                 | 2021-06-22 00:05:... \n",
            " iso_country               | AF                   \n",
            "-RECORD 5-----------------------------------------\n",
            " date_rep                  | 2020-12-09           \n",
            " day                       | 9                    \n",
            " month                     | 12                   \n",
            " year                      | 2020                 \n",
            " cases                     | 135                  \n",
            " deaths                    | 13                   \n",
            " countries_and_territories | Afghanistan          \n",
            " geo_id                    | AF                   \n",
            " country_territory_code    | AFG                  \n",
            " pop_data_2018             | null                 \n",
            " continent_exp             | Asia                 \n",
            " load_date                 | 2021-06-22 00:05:... \n",
            " iso_country               | AF                   \n",
            "-RECORD 6-----------------------------------------\n",
            " date_rep                  | 2020-12-08           \n",
            " day                       | 8                    \n",
            " month                     | 12                   \n",
            " year                      | 2020                 \n",
            " cases                     | 200                  \n",
            " deaths                    | 6                    \n",
            " countries_and_territories | Afghanistan          \n",
            " geo_id                    | AF                   \n",
            " country_territory_code    | AFG                  \n",
            " pop_data_2018             | null                 \n",
            " continent_exp             | Asia                 \n",
            " load_date                 | 2021-06-22 00:05:... \n",
            " iso_country               | AF                   \n",
            "-RECORD 7-----------------------------------------\n",
            " date_rep                  | 2020-12-07           \n",
            " day                       | 7                    \n",
            " month                     | 12                   \n",
            " year                      | 2020                 \n",
            " cases                     | 210                  \n",
            " deaths                    | 26                   \n",
            " countries_and_territories | Afghanistan          \n",
            " geo_id                    | AF                   \n",
            " country_territory_code    | AFG                  \n",
            " pop_data_2018             | null                 \n",
            " continent_exp             | Asia                 \n",
            " load_date                 | 2021-06-22 00:05:... \n",
            " iso_country               | AF                   \n",
            "-RECORD 8-----------------------------------------\n",
            " date_rep                  | 2020-12-06           \n",
            " day                       | 6                    \n",
            " month                     | 12                   \n",
            " year                      | 2020                 \n",
            " cases                     | 234                  \n",
            " deaths                    | 10                   \n",
            " countries_and_territories | Afghanistan          \n",
            " geo_id                    | AF                   \n",
            " country_territory_code    | AFG                  \n",
            " pop_data_2018             | null                 \n",
            " continent_exp             | Asia                 \n",
            " load_date                 | 2021-06-22 00:05:... \n",
            " iso_country               | AF                   \n",
            "-RECORD 9-----------------------------------------\n",
            " date_rep                  | 2020-12-05           \n",
            " day                       | 5                    \n",
            " month                     | 12                   \n",
            " year                      | 2020                 \n",
            " cases                     | 235                  \n",
            " deaths                    | 18                   \n",
            " countries_and_territories | Afghanistan          \n",
            " geo_id                    | AF                   \n",
            " country_territory_code    | AFG                  \n",
            " pop_data_2018             | null                 \n",
            " continent_exp             | Asia                 \n",
            " load_date                 | 2021-06-22 00:05:... \n",
            " iso_country               | AF                   \n",
            "-RECORD 10----------------------------------------\n",
            " date_rep                  | 2020-12-04           \n",
            " day                       | 4                    \n",
            " month                     | 12                   \n",
            " year                      | 2020                 \n",
            " cases                     | 119                  \n",
            " deaths                    | 5                    \n",
            " countries_and_territories | Afghanistan          \n",
            " geo_id                    | AF                   \n",
            " country_territory_code    | AFG                  \n",
            " pop_data_2018             | null                 \n",
            " continent_exp             | Asia                 \n",
            " load_date                 | 2021-06-22 00:05:... \n",
            " iso_country               | AF                   \n",
            "-RECORD 11----------------------------------------\n",
            " date_rep                  | 2020-12-03           \n",
            " day                       | 3                    \n",
            " month                     | 12                   \n",
            " year                      | 2020                 \n",
            " cases                     | 202                  \n",
            " deaths                    | 19                   \n",
            " countries_and_territories | Afghanistan          \n",
            " geo_id                    | AF                   \n",
            " country_territory_code    | AFG                  \n",
            " pop_data_2018             | null                 \n",
            " continent_exp             | Asia                 \n",
            " load_date                 | 2021-06-22 00:05:... \n",
            " iso_country               | AF                   \n",
            "-RECORD 12----------------------------------------\n",
            " date_rep                  | 2020-12-02           \n",
            " day                       | 2                    \n",
            " month                     | 12                   \n",
            " year                      | 2020                 \n",
            " cases                     | 400                  \n",
            " deaths                    | 48                   \n",
            " countries_and_territories | Afghanistan          \n",
            " geo_id                    | AF                   \n",
            " country_territory_code    | AFG                  \n",
            " pop_data_2018             | null                 \n",
            " continent_exp             | Asia                 \n",
            " load_date                 | 2021-06-22 00:05:... \n",
            " iso_country               | AF                   \n",
            "-RECORD 13----------------------------------------\n",
            " date_rep                  | 2020-12-01           \n",
            " day                       | 1                    \n",
            " month                     | 12                   \n",
            " year                      | 2020                 \n",
            " cases                     | 272                  \n",
            " deaths                    | 11                   \n",
            " countries_and_territories | Afghanistan          \n",
            " geo_id                    | AF                   \n",
            " country_territory_code    | AFG                  \n",
            " pop_data_2018             | null                 \n",
            " continent_exp             | Asia                 \n",
            " load_date                 | 2021-06-22 00:05:... \n",
            " iso_country               | AF                   \n",
            "-RECORD 14----------------------------------------\n",
            " date_rep                  | 2020-11-30           \n",
            " day                       | 30                   \n",
            " month                     | 11                   \n",
            " year                      | 2020                 \n",
            " cases                     | 0                    \n",
            " deaths                    | 0                    \n",
            " countries_and_territories | Afghanistan          \n",
            " geo_id                    | AF                   \n",
            " country_territory_code    | AFG                  \n",
            " pop_data_2018             | null                 \n",
            " continent_exp             | Asia                 \n",
            " load_date                 | 2021-06-22 00:05:... \n",
            " iso_country               | AF                   \n",
            "-RECORD 15----------------------------------------\n",
            " date_rep                  | 2020-11-29           \n",
            " day                       | 29                   \n",
            " month                     | 11                   \n",
            " year                      | 2020                 \n",
            " cases                     | 228                  \n",
            " deaths                    | 11                   \n",
            " countries_and_territories | Afghanistan          \n",
            " geo_id                    | AF                   \n",
            " country_territory_code    | AFG                  \n",
            " pop_data_2018             | null                 \n",
            " continent_exp             | Asia                 \n",
            " load_date                 | 2021-06-22 00:05:... \n",
            " iso_country               | AF                   \n",
            "-RECORD 16----------------------------------------\n",
            " date_rep                  | 2020-11-28           \n",
            " day                       | 28                   \n",
            " month                     | 11                   \n",
            " year                      | 2020                 \n",
            " cases                     | 214                  \n",
            " deaths                    | 15                   \n",
            " countries_and_territories | Afghanistan          \n",
            " geo_id                    | AF                   \n",
            " country_territory_code    | AFG                  \n",
            " pop_data_2018             | null                 \n",
            " continent_exp             | Asia                 \n",
            " load_date                 | 2021-06-22 00:05:... \n",
            " iso_country               | AF                   \n",
            "-RECORD 17----------------------------------------\n",
            " date_rep                  | 2020-11-27           \n",
            " day                       | 27                   \n",
            " month                     | 11                   \n",
            " year                      | 2020                 \n",
            " cases                     | 0                    \n",
            " deaths                    | 0                    \n",
            " countries_and_territories | Afghanistan          \n",
            " geo_id                    | AF                   \n",
            " country_territory_code    | AFG                  \n",
            " pop_data_2018             | null                 \n",
            " continent_exp             | Asia                 \n",
            " load_date                 | 2021-06-22 00:05:... \n",
            " iso_country               | AF                   \n",
            "-RECORD 18----------------------------------------\n",
            " date_rep                  | 2020-11-26           \n",
            " day                       | 26                   \n",
            " month                     | 11                   \n",
            " year                      | 2020                 \n",
            " cases                     | 200                  \n",
            " deaths                    | 12                   \n",
            " countries_and_territories | Afghanistan          \n",
            " geo_id                    | AF                   \n",
            " country_territory_code    | AFG                  \n",
            " pop_data_2018             | null                 \n",
            " continent_exp             | Asia                 \n",
            " load_date                 | 2021-06-22 00:05:... \n",
            " iso_country               | AF                   \n",
            "-RECORD 19----------------------------------------\n",
            " date_rep                  | 2020-11-25           \n",
            " day                       | 25                   \n",
            " month                     | 11                   \n",
            " year                      | 2020                 \n",
            " cases                     | 185                  \n",
            " deaths                    | 13                   \n",
            " countries_and_territories | Afghanistan          \n",
            " geo_id                    | AF                   \n",
            " country_territory_code    | AFG                  \n",
            " pop_data_2018             | null                 \n",
            " continent_exp             | Asia                 \n",
            " load_date                 | 2021-06-22 00:05:... \n",
            " iso_country               | AF                   \n",
            "only showing top 20 rows"
          ]
        }
      ],
      "execution_count": 55,
      "metadata": {
        "collapsed": true,
        "jupyter": {
          "source_hidden": false,
          "outputs_hidden": false
        },
        "nteract": {
          "transient": {
            "deleting": false
          }
        }
      }
    },
    {
      "cell_type": "code",
      "source": [
        "dfCovidDelta.count()"
      ],
      "outputs": [
        {
          "output_type": "display_data",
          "data": {
            "application/vnd.livy.statement-meta+json": {
              "spark_pool": "smallPool",
              "session_id": 12,
              "statement_id": 56,
              "state": "finished",
              "livy_statement_state": "available",
              "queued_time": "2021-07-06T20:43:17.8123577Z",
              "session_start_time": null,
              "execution_start_time": "2021-07-06T20:43:17.9183177Z",
              "execution_finish_time": "2021-07-06T20:43:19.9747638Z"
            },
            "text/plain": "StatementMeta(smallPool, 12, 56, Finished, Available)"
          },
          "metadata": {}
        },
        {
          "output_type": "stream",
          "name": "stdout",
          "text": [
            "61900"
          ]
        }
      ],
      "execution_count": 56,
      "metadata": {
        "collapsed": true,
        "jupyter": {
          "source_hidden": false,
          "outputs_hidden": false
        },
        "nteract": {
          "transient": {
            "deleting": false
          }
        }
      }
    },
    {
      "cell_type": "markdown",
      "source": [
        "61900 records in total in our datalake"
      ],
      "metadata": {
        "nteract": {
          "transient": {
            "deleting": false
          }
        }
      }
    },
    {
      "cell_type": "markdown",
      "source": [
        "We have now 2 Datasets:\r\n",
        "<br> One from the 22nd of June: **dfCovidDelta**\r\n",
        "<br> One based on the daily updated: **df**"
      ],
      "metadata": {
        "nteract": {
          "transient": {
            "deleting": false
          }
        }
      }
    },
    {
      "cell_type": "markdown",
      "source": [
        "# Check any difference between these two datasets in term of cases and deaths for the same country and date"
      ],
      "metadata": {
        "nteract": {
          "transient": {
            "deleting": false
          }
        }
      }
    },
    {
      "cell_type": "code",
      "source": [
        "dfDiff = dfCovidDelta.join(df,(dfCovidDelta.date_rep ==  df.date_rep) & (dfCovidDelta.iso_country == df.iso_country) & ((dfCovidDelta.cases !=  df.cases) | (dfCovidDelta.deaths !=  df.deaths))).select(\"*\")"
      ],
      "outputs": [
        {
          "output_type": "display_data",
          "data": {
            "application/vnd.livy.statement-meta+json": {
              "spark_pool": "smallPool",
              "session_id": 12,
              "statement_id": 57,
              "state": "finished",
              "livy_statement_state": "available",
              "queued_time": "2021-07-06T20:43:25.911722Z",
              "session_start_time": null,
              "execution_start_time": "2021-07-06T20:43:26.0204134Z",
              "execution_finish_time": "2021-07-06T20:43:28.0957774Z"
            },
            "text/plain": "StatementMeta(smallPool, 12, 57, Finished, Available)"
          },
          "metadata": {}
        },
        {
          "output_type": "stream",
          "name": "stdout",
          "text": []
        }
      ],
      "execution_count": 57,
      "metadata": {
        "collapsed": true,
        "jupyter": {
          "source_hidden": false,
          "outputs_hidden": false
        },
        "nteract": {
          "transient": {
            "deleting": false
          }
        }
      }
    },
    {
      "cell_type": "code",
      "source": [
        "dfDiff.show(vertical=True)"
      ],
      "outputs": [
        {
          "output_type": "display_data",
          "data": {
            "application/vnd.livy.statement-meta+json": {
              "spark_pool": "smallPool",
              "session_id": 12,
              "statement_id": 58,
              "state": "finished",
              "livy_statement_state": "available",
              "queued_time": "2021-07-06T20:43:30.5029071Z",
              "session_start_time": null,
              "execution_start_time": "2021-07-06T20:43:30.6063573Z",
              "execution_finish_time": "2021-07-06T20:43:34.7340172Z"
            },
            "text/plain": "StatementMeta(smallPool, 12, 58, Finished, Available)"
          },
          "metadata": {}
        },
        {
          "output_type": "stream",
          "name": "stdout",
          "text": [
            "(0 rows)"
          ]
        }
      ],
      "execution_count": 58,
      "metadata": {
        "collapsed": true,
        "jupyter": {
          "source_hidden": false,
          "outputs_hidden": false
        },
        "nteract": {
          "transient": {
            "deleting": false
          }
        }
      }
    },
    {
      "cell_type": "markdown",
      "source": [
        "There is no differences in term of cases, detahs for the same country\r\n",
        "<br> The dataset contains only data until 14/12/2020. See https://www.ecdc.europa.eu/en/covid-19/data-collection\r\n",
        "<br> The only difference is the load date"
      ],
      "metadata": {
        "nteract": {
          "transient": {
            "deleting": false
          }
        }
      }
    },
    {
      "cell_type": "markdown",
      "source": [
        "# Create a Delta table from DataLake location"
      ],
      "metadata": {
        "nteract": {
          "transient": {
            "deleting": false
          }
        }
      }
    },
    {
      "cell_type": "code",
      "source": [
        "from delta.tables import *\r\n",
        "\r\n",
        "deltaCovidTable = DeltaTable.forPath(spark,f\"{storagePath}/delta\")"
      ],
      "outputs": [
        {
          "output_type": "display_data",
          "data": {
            "application/vnd.livy.statement-meta+json": {
              "spark_pool": "smallPool",
              "session_id": 12,
              "statement_id": 59,
              "state": "finished",
              "livy_statement_state": "available",
              "queued_time": "2021-07-06T20:43:39.3188856Z",
              "session_start_time": null,
              "execution_start_time": "2021-07-06T20:43:39.4267991Z",
              "execution_finish_time": "2021-07-06T20:43:41.4961152Z"
            },
            "text/plain": "StatementMeta(smallPool, 12, 59, Finished, Available)"
          },
          "metadata": {}
        },
        {
          "output_type": "stream",
          "name": "stdout",
          "text": []
        }
      ],
      "execution_count": 59,
      "metadata": {
        "collapsed": true,
        "jupyter": {
          "source_hidden": false,
          "outputs_hidden": false
        },
        "nteract": {
          "transient": {
            "deleting": false
          }
        }
      }
    },
    {
      "cell_type": "code",
      "source": [
        "from pyspark.sql.functions import to_date, col"
      ],
      "outputs": [
        {
          "output_type": "display_data",
          "data": {
            "application/vnd.livy.statement-meta+json": {
              "spark_pool": "smallPool",
              "session_id": 12,
              "statement_id": 60,
              "state": "finished",
              "livy_statement_state": "available",
              "queued_time": "2021-07-06T20:43:52.6378977Z",
              "session_start_time": null,
              "execution_start_time": "2021-07-06T20:43:52.7462611Z",
              "execution_finish_time": "2021-07-06T20:43:54.810854Z"
            },
            "text/plain": "StatementMeta(smallPool, 12, 60, Finished, Available)"
          },
          "metadata": {}
        },
        {
          "output_type": "stream",
          "name": "stdout",
          "text": []
        }
      ],
      "execution_count": 60,
      "metadata": {
        "collapsed": true,
        "jupyter": {
          "source_hidden": false,
          "outputs_hidden": false
        },
        "nteract": {
          "transient": {
            "deleting": false
          }
        }
      }
    },
    {
      "cell_type": "code",
      "source": [
        "deltaCovidTable.toDF().withColumn(\"load_date_dateFormat\",to_date(col(\"load_date\"),\"yyyy-MM-dd\")).show(vertical=True)"
      ],
      "outputs": [
        {
          "output_type": "display_data",
          "data": {
            "application/vnd.livy.statement-meta+json": {
              "spark_pool": "smallPool",
              "session_id": 12,
              "statement_id": 61,
              "state": "finished",
              "livy_statement_state": "available",
              "queued_time": "2021-07-06T20:44:00.6288956Z",
              "session_start_time": null,
              "execution_start_time": "2021-07-06T20:44:00.7471161Z",
              "execution_finish_time": "2021-07-06T20:44:02.8181093Z"
            },
            "text/plain": "StatementMeta(smallPool, 12, 61, Finished, Available)"
          },
          "metadata": {}
        },
        {
          "output_type": "stream",
          "name": "stdout",
          "text": [
            "-RECORD 0-----------------------------------------\n",
            " date_rep                  | 2020-12-14           \n",
            " day                       | 14                   \n",
            " month                     | 12                   \n",
            " year                      | 2020                 \n",
            " cases                     | 746                  \n",
            " deaths                    | 6                    \n",
            " countries_and_territories | Afghanistan          \n",
            " geo_id                    | AF                   \n",
            " country_territory_code    | AFG                  \n",
            " pop_data_2018             | null                 \n",
            " continent_exp             | Asia                 \n",
            " load_date                 | 2021-06-22 00:05:... \n",
            " iso_country               | AF                   \n",
            " load_date_dateFormat      | 2021-06-22           \n",
            "-RECORD 1-----------------------------------------\n",
            " date_rep                  | 2020-12-13           \n",
            " day                       | 13                   \n",
            " month                     | 12                   \n",
            " year                      | 2020                 \n",
            " cases                     | 298                  \n",
            " deaths                    | 9                    \n",
            " countries_and_territories | Afghanistan          \n",
            " geo_id                    | AF                   \n",
            " country_territory_code    | AFG                  \n",
            " pop_data_2018             | null                 \n",
            " continent_exp             | Asia                 \n",
            " load_date                 | 2021-06-22 00:05:... \n",
            " iso_country               | AF                   \n",
            " load_date_dateFormat      | 2021-06-22           \n",
            "-RECORD 2-----------------------------------------\n",
            " date_rep                  | 2020-12-12           \n",
            " day                       | 12                   \n",
            " month                     | 12                   \n",
            " year                      | 2020                 \n",
            " cases                     | 113                  \n",
            " deaths                    | 11                   \n",
            " countries_and_territories | Afghanistan          \n",
            " geo_id                    | AF                   \n",
            " country_territory_code    | AFG                  \n",
            " pop_data_2018             | null                 \n",
            " continent_exp             | Asia                 \n",
            " load_date                 | 2021-06-22 00:05:... \n",
            " iso_country               | AF                   \n",
            " load_date_dateFormat      | 2021-06-22           \n",
            "-RECORD 3-----------------------------------------\n",
            " date_rep                  | 2020-12-11           \n",
            " day                       | 11                   \n",
            " month                     | 12                   \n",
            " year                      | 2020                 \n",
            " cases                     | 63                   \n",
            " deaths                    | 10                   \n",
            " countries_and_territories | Afghanistan          \n",
            " geo_id                    | AF                   \n",
            " country_territory_code    | AFG                  \n",
            " pop_data_2018             | null                 \n",
            " continent_exp             | Asia                 \n",
            " load_date                 | 2021-06-22 00:05:... \n",
            " iso_country               | AF                   \n",
            " load_date_dateFormat      | 2021-06-22           \n",
            "-RECORD 4-----------------------------------------\n",
            " date_rep                  | 2020-12-10           \n",
            " day                       | 10                   \n",
            " month                     | 12                   \n",
            " year                      | 2020                 \n",
            " cases                     | 202                  \n",
            " deaths                    | 16                   \n",
            " countries_and_territories | Afghanistan          \n",
            " geo_id                    | AF                   \n",
            " country_territory_code    | AFG                  \n",
            " pop_data_2018             | null                 \n",
            " continent_exp             | Asia                 \n",
            " load_date                 | 2021-06-22 00:05:... \n",
            " iso_country               | AF                   \n",
            " load_date_dateFormat      | 2021-06-22           \n",
            "-RECORD 5-----------------------------------------\n",
            " date_rep                  | 2020-12-09           \n",
            " day                       | 9                    \n",
            " month                     | 12                   \n",
            " year                      | 2020                 \n",
            " cases                     | 135                  \n",
            " deaths                    | 13                   \n",
            " countries_and_territories | Afghanistan          \n",
            " geo_id                    | AF                   \n",
            " country_territory_code    | AFG                  \n",
            " pop_data_2018             | null                 \n",
            " continent_exp             | Asia                 \n",
            " load_date                 | 2021-06-22 00:05:... \n",
            " iso_country               | AF                   \n",
            " load_date_dateFormat      | 2021-06-22           \n",
            "-RECORD 6-----------------------------------------\n",
            " date_rep                  | 2020-12-08           \n",
            " day                       | 8                    \n",
            " month                     | 12                   \n",
            " year                      | 2020                 \n",
            " cases                     | 200                  \n",
            " deaths                    | 6                    \n",
            " countries_and_territories | Afghanistan          \n",
            " geo_id                    | AF                   \n",
            " country_territory_code    | AFG                  \n",
            " pop_data_2018             | null                 \n",
            " continent_exp             | Asia                 \n",
            " load_date                 | 2021-06-22 00:05:... \n",
            " iso_country               | AF                   \n",
            " load_date_dateFormat      | 2021-06-22           \n",
            "-RECORD 7-----------------------------------------\n",
            " date_rep                  | 2020-12-07           \n",
            " day                       | 7                    \n",
            " month                     | 12                   \n",
            " year                      | 2020                 \n",
            " cases                     | 210                  \n",
            " deaths                    | 26                   \n",
            " countries_and_territories | Afghanistan          \n",
            " geo_id                    | AF                   \n",
            " country_territory_code    | AFG                  \n",
            " pop_data_2018             | null                 \n",
            " continent_exp             | Asia                 \n",
            " load_date                 | 2021-06-22 00:05:... \n",
            " iso_country               | AF                   \n",
            " load_date_dateFormat      | 2021-06-22           \n",
            "-RECORD 8-----------------------------------------\n",
            " date_rep                  | 2020-12-06           \n",
            " day                       | 6                    \n",
            " month                     | 12                   \n",
            " year                      | 2020                 \n",
            " cases                     | 234                  \n",
            " deaths                    | 10                   \n",
            " countries_and_territories | Afghanistan          \n",
            " geo_id                    | AF                   \n",
            " country_territory_code    | AFG                  \n",
            " pop_data_2018             | null                 \n",
            " continent_exp             | Asia                 \n",
            " load_date                 | 2021-06-22 00:05:... \n",
            " iso_country               | AF                   \n",
            " load_date_dateFormat      | 2021-06-22           \n",
            "-RECORD 9-----------------------------------------\n",
            " date_rep                  | 2020-12-05           \n",
            " day                       | 5                    \n",
            " month                     | 12                   \n",
            " year                      | 2020                 \n",
            " cases                     | 235                  \n",
            " deaths                    | 18                   \n",
            " countries_and_territories | Afghanistan          \n",
            " geo_id                    | AF                   \n",
            " country_territory_code    | AFG                  \n",
            " pop_data_2018             | null                 \n",
            " continent_exp             | Asia                 \n",
            " load_date                 | 2021-06-22 00:05:... \n",
            " iso_country               | AF                   \n",
            " load_date_dateFormat      | 2021-06-22           \n",
            "-RECORD 10----------------------------------------\n",
            " date_rep                  | 2020-12-04           \n",
            " day                       | 4                    \n",
            " month                     | 12                   \n",
            " year                      | 2020                 \n",
            " cases                     | 119                  \n",
            " deaths                    | 5                    \n",
            " countries_and_territories | Afghanistan          \n",
            " geo_id                    | AF                   \n",
            " country_territory_code    | AFG                  \n",
            " pop_data_2018             | null                 \n",
            " continent_exp             | Asia                 \n",
            " load_date                 | 2021-06-22 00:05:... \n",
            " iso_country               | AF                   \n",
            " load_date_dateFormat      | 2021-06-22           \n",
            "-RECORD 11----------------------------------------\n",
            " date_rep                  | 2020-12-03           \n",
            " day                       | 3                    \n",
            " month                     | 12                   \n",
            " year                      | 2020                 \n",
            " cases                     | 202                  \n",
            " deaths                    | 19                   \n",
            " countries_and_territories | Afghanistan          \n",
            " geo_id                    | AF                   \n",
            " country_territory_code    | AFG                  \n",
            " pop_data_2018             | null                 \n",
            " continent_exp             | Asia                 \n",
            " load_date                 | 2021-06-22 00:05:... \n",
            " iso_country               | AF                   \n",
            " load_date_dateFormat      | 2021-06-22           \n",
            "-RECORD 12----------------------------------------\n",
            " date_rep                  | 2020-12-02           \n",
            " day                       | 2                    \n",
            " month                     | 12                   \n",
            " year                      | 2020                 \n",
            " cases                     | 400                  \n",
            " deaths                    | 48                   \n",
            " countries_and_territories | Afghanistan          \n",
            " geo_id                    | AF                   \n",
            " country_territory_code    | AFG                  \n",
            " pop_data_2018             | null                 \n",
            " continent_exp             | Asia                 \n",
            " load_date                 | 2021-06-22 00:05:... \n",
            " iso_country               | AF                   \n",
            " load_date_dateFormat      | 2021-06-22           \n",
            "-RECORD 13----------------------------------------\n",
            " date_rep                  | 2020-12-01           \n",
            " day                       | 1                    \n",
            " month                     | 12                   \n",
            " year                      | 2020                 \n",
            " cases                     | 272                  \n",
            " deaths                    | 11                   \n",
            " countries_and_territories | Afghanistan          \n",
            " geo_id                    | AF                   \n",
            " country_territory_code    | AFG                  \n",
            " pop_data_2018             | null                 \n",
            " continent_exp             | Asia                 \n",
            " load_date                 | 2021-06-22 00:05:... \n",
            " iso_country               | AF                   \n",
            " load_date_dateFormat      | 2021-06-22           \n",
            "-RECORD 14----------------------------------------\n",
            " date_rep                  | 2020-11-30           \n",
            " day                       | 30                   \n",
            " month                     | 11                   \n",
            " year                      | 2020                 \n",
            " cases                     | 0                    \n",
            " deaths                    | 0                    \n",
            " countries_and_territories | Afghanistan          \n",
            " geo_id                    | AF                   \n",
            " country_territory_code    | AFG                  \n",
            " pop_data_2018             | null                 \n",
            " continent_exp             | Asia                 \n",
            " load_date                 | 2021-06-22 00:05:... \n",
            " iso_country               | AF                   \n",
            " load_date_dateFormat      | 2021-06-22           \n",
            "-RECORD 15----------------------------------------\n",
            " date_rep                  | 2020-11-29           \n",
            " day                       | 29                   \n",
            " month                     | 11                   \n",
            " year                      | 2020                 \n",
            " cases                     | 228                  \n",
            " deaths                    | 11                   \n",
            " countries_and_territories | Afghanistan          \n",
            " geo_id                    | AF                   \n",
            " country_territory_code    | AFG                  \n",
            " pop_data_2018             | null                 \n",
            " continent_exp             | Asia                 \n",
            " load_date                 | 2021-06-22 00:05:... \n",
            " iso_country               | AF                   \n",
            " load_date_dateFormat      | 2021-06-22           \n",
            "-RECORD 16----------------------------------------\n",
            " date_rep                  | 2020-11-28           \n",
            " day                       | 28                   \n",
            " month                     | 11                   \n",
            " year                      | 2020                 \n",
            " cases                     | 214                  \n",
            " deaths                    | 15                   \n",
            " countries_and_territories | Afghanistan          \n",
            " geo_id                    | AF                   \n",
            " country_territory_code    | AFG                  \n",
            " pop_data_2018             | null                 \n",
            " continent_exp             | Asia                 \n",
            " load_date                 | 2021-06-22 00:05:... \n",
            " iso_country               | AF                   \n",
            " load_date_dateFormat      | 2021-06-22           \n",
            "-RECORD 17----------------------------------------\n",
            " date_rep                  | 2020-11-27           \n",
            " day                       | 27                   \n",
            " month                     | 11                   \n",
            " year                      | 2020                 \n",
            " cases                     | 0                    \n",
            " deaths                    | 0                    \n",
            " countries_and_territories | Afghanistan          \n",
            " geo_id                    | AF                   \n",
            " country_territory_code    | AFG                  \n",
            " pop_data_2018             | null                 \n",
            " continent_exp             | Asia                 \n",
            " load_date                 | 2021-06-22 00:05:... \n",
            " iso_country               | AF                   \n",
            " load_date_dateFormat      | 2021-06-22           \n",
            "-RECORD 18----------------------------------------\n",
            " date_rep                  | 2020-11-26           \n",
            " day                       | 26                   \n",
            " month                     | 11                   \n",
            " year                      | 2020                 \n",
            " cases                     | 200                  \n",
            " deaths                    | 12                   \n",
            " countries_and_territories | Afghanistan          \n",
            " geo_id                    | AF                   \n",
            " country_territory_code    | AFG                  \n",
            " pop_data_2018             | null                 \n",
            " continent_exp             | Asia                 \n",
            " load_date                 | 2021-06-22 00:05:... \n",
            " iso_country               | AF                   \n",
            " load_date_dateFormat      | 2021-06-22           \n",
            "-RECORD 19----------------------------------------\n",
            " date_rep                  | 2020-11-25           \n",
            " day                       | 25                   \n",
            " month                     | 11                   \n",
            " year                      | 2020                 \n",
            " cases                     | 185                  \n",
            " deaths                    | 13                   \n",
            " countries_and_territories | Afghanistan          \n",
            " geo_id                    | AF                   \n",
            " country_territory_code    | AFG                  \n",
            " pop_data_2018             | null                 \n",
            " continent_exp             | Asia                 \n",
            " load_date                 | 2021-06-22 00:05:... \n",
            " iso_country               | AF                   \n",
            " load_date_dateFormat      | 2021-06-22           \n",
            "only showing top 20 rows"
          ]
        }
      ],
      "execution_count": 61,
      "metadata": {
        "collapsed": true,
        "jupyter": {
          "source_hidden": false,
          "outputs_hidden": false
        },
        "nteract": {
          "transient": {
            "deleting": false
          }
        }
      }
    },
    {
      "cell_type": "markdown",
      "source": [
        "# Merge the two datasets to keep in our datalake only the the most updated records"
      ],
      "metadata": {
        "nteract": {
          "transient": {
            "deleting": false
          }
        }
      }
    },
    {
      "cell_type": "code",
      "source": [
        "\r\n",
        "deltaCovidTable.alias(\"deltaLake\").merge(df.alias(\"dataUpdate\"),condition=\"deltaLake.date_rep = dataUpdate.date_rep and deltaLake.iso_country = dataUpdate.iso_country\").whenMatchedUpdate(set = {\"cases\":\"dataUpdate.cases\",\"load_date\": \"dataUpdate.load_date\"}).execute()\r\n"
      ],
      "outputs": [
        {
          "output_type": "display_data",
          "data": {
            "application/vnd.livy.statement-meta+json": {
              "spark_pool": "smallPool",
              "session_id": 12,
              "statement_id": 62,
              "state": "finished",
              "livy_statement_state": "available",
              "queued_time": "2021-07-06T20:44:16.0794632Z",
              "session_start_time": null,
              "execution_start_time": "2021-07-06T20:44:16.1858158Z",
              "execution_finish_time": "2021-07-06T20:44:30.6847637Z"
            },
            "text/plain": "StatementMeta(smallPool, 12, 62, Finished, Available)"
          },
          "metadata": {}
        },
        {
          "output_type": "stream",
          "name": "stdout",
          "text": []
        }
      ],
      "execution_count": 62,
      "metadata": {
        "collapsed": true,
        "jupyter": {
          "source_hidden": false,
          "outputs_hidden": false
        },
        "nteract": {
          "transient": {
            "deleting": false
          }
        }
      }
    },
    {
      "cell_type": "markdown",
      "source": [
        "# Check if after the merge we have still data loaded on the 22nd of June"
      ],
      "metadata": {
        "nteract": {
          "transient": {
            "deleting": false
          }
        }
      }
    },
    {
      "cell_type": "code",
      "source": [
        "deltaCovidTable.toDF().withColumn(\"load_date_dateFormat\",to_date(col(\"load_date\"),\"yyyy-MM-dd\")).where(\"load_date_dateFormat = '2021-06-22'\").show(vertical=True)"
      ],
      "outputs": [
        {
          "output_type": "display_data",
          "data": {
            "application/vnd.livy.statement-meta+json": {
              "spark_pool": "smallPool",
              "session_id": 12,
              "statement_id": 63,
              "state": "finished",
              "livy_statement_state": "available",
              "queued_time": "2021-07-06T20:45:04.3701941Z",
              "session_start_time": null,
              "execution_start_time": "2021-07-06T20:45:04.4881212Z",
              "execution_finish_time": "2021-07-06T20:45:06.5690457Z"
            },
            "text/plain": "StatementMeta(smallPool, 12, 63, Finished, Available)"
          },
          "metadata": {}
        },
        {
          "output_type": "stream",
          "name": "stdout",
          "text": [
            "(0 rows)"
          ]
        }
      ],
      "execution_count": 63,
      "metadata": {
        "collapsed": true,
        "jupyter": {
          "source_hidden": false,
          "outputs_hidden": false
        },
        "nteract": {
          "transient": {
            "deleting": false
          }
        }
      }
    },
    {
      "cell_type": "markdown",
      "source": [
        "# Check if after the merge we have data from the last updates"
      ],
      "metadata": {
        "nteract": {
          "transient": {
            "deleting": false
          }
        }
      }
    },
    {
      "cell_type": "code",
      "source": [
        "deltaCovidTable.toDF().withColumn(\"load_date_dateFormat\",to_date(col(\"load_date\"),\"yyyy-MM-dd\")).where(\"load_date_dateFormat = '2021-07-06'\").show(vertical=True)"
      ],
      "outputs": [
        {
          "output_type": "display_data",
          "data": {
            "application/vnd.livy.statement-meta+json": {
              "spark_pool": "smallPool",
              "session_id": 12,
              "statement_id": 64,
              "state": "finished",
              "livy_statement_state": "available",
              "queued_time": "2021-07-06T20:45:29.4498663Z",
              "session_start_time": null,
              "execution_start_time": "2021-07-06T20:45:29.5667618Z",
              "execution_finish_time": "2021-07-06T20:45:31.6137761Z"
            },
            "text/plain": "StatementMeta(smallPool, 12, 64, Finished, Available)"
          },
          "metadata": {}
        },
        {
          "output_type": "stream",
          "name": "stdout",
          "text": [
            "-RECORD 0-----------------------------------------\n",
            " date_rep                  | 2020-12-14           \n",
            " day                       | 14                   \n",
            " month                     | 12                   \n",
            " year                      | 2020                 \n",
            " cases                     | 746                  \n",
            " deaths                    | 6                    \n",
            " countries_and_territories | Afghanistan          \n",
            " geo_id                    | AF                   \n",
            " country_territory_code    | AFG                  \n",
            " pop_data_2018             | null                 \n",
            " continent_exp             | Asia                 \n",
            " load_date                 | 2021-07-06 00:07:... \n",
            " iso_country               | AF                   \n",
            " load_date_dateFormat      | 2021-07-06           \n",
            "-RECORD 1-----------------------------------------\n",
            " date_rep                  | 2020-12-13           \n",
            " day                       | 13                   \n",
            " month                     | 12                   \n",
            " year                      | 2020                 \n",
            " cases                     | 298                  \n",
            " deaths                    | 9                    \n",
            " countries_and_territories | Afghanistan          \n",
            " geo_id                    | AF                   \n",
            " country_territory_code    | AFG                  \n",
            " pop_data_2018             | null                 \n",
            " continent_exp             | Asia                 \n",
            " load_date                 | 2021-07-06 00:07:... \n",
            " iso_country               | AF                   \n",
            " load_date_dateFormat      | 2021-07-06           \n",
            "-RECORD 2-----------------------------------------\n",
            " date_rep                  | 2020-12-12           \n",
            " day                       | 12                   \n",
            " month                     | 12                   \n",
            " year                      | 2020                 \n",
            " cases                     | 113                  \n",
            " deaths                    | 11                   \n",
            " countries_and_territories | Afghanistan          \n",
            " geo_id                    | AF                   \n",
            " country_territory_code    | AFG                  \n",
            " pop_data_2018             | null                 \n",
            " continent_exp             | Asia                 \n",
            " load_date                 | 2021-07-06 00:07:... \n",
            " iso_country               | AF                   \n",
            " load_date_dateFormat      | 2021-07-06           \n",
            "-RECORD 3-----------------------------------------\n",
            " date_rep                  | 2020-12-11           \n",
            " day                       | 11                   \n",
            " month                     | 12                   \n",
            " year                      | 2020                 \n",
            " cases                     | 63                   \n",
            " deaths                    | 10                   \n",
            " countries_and_territories | Afghanistan          \n",
            " geo_id                    | AF                   \n",
            " country_territory_code    | AFG                  \n",
            " pop_data_2018             | null                 \n",
            " continent_exp             | Asia                 \n",
            " load_date                 | 2021-07-06 00:07:... \n",
            " iso_country               | AF                   \n",
            " load_date_dateFormat      | 2021-07-06           \n",
            "-RECORD 4-----------------------------------------\n",
            " date_rep                  | 2020-12-10           \n",
            " day                       | 10                   \n",
            " month                     | 12                   \n",
            " year                      | 2020                 \n",
            " cases                     | 202                  \n",
            " deaths                    | 16                   \n",
            " countries_and_territories | Afghanistan          \n",
            " geo_id                    | AF                   \n",
            " country_territory_code    | AFG                  \n",
            " pop_data_2018             | null                 \n",
            " continent_exp             | Asia                 \n",
            " load_date                 | 2021-07-06 00:07:... \n",
            " iso_country               | AF                   \n",
            " load_date_dateFormat      | 2021-07-06           \n",
            "-RECORD 5-----------------------------------------\n",
            " date_rep                  | 2020-12-09           \n",
            " day                       | 9                    \n",
            " month                     | 12                   \n",
            " year                      | 2020                 \n",
            " cases                     | 135                  \n",
            " deaths                    | 13                   \n",
            " countries_and_territories | Afghanistan          \n",
            " geo_id                    | AF                   \n",
            " country_territory_code    | AFG                  \n",
            " pop_data_2018             | null                 \n",
            " continent_exp             | Asia                 \n",
            " load_date                 | 2021-07-06 00:07:... \n",
            " iso_country               | AF                   \n",
            " load_date_dateFormat      | 2021-07-06           \n",
            "-RECORD 6-----------------------------------------\n",
            " date_rep                  | 2020-12-08           \n",
            " day                       | 8                    \n",
            " month                     | 12                   \n",
            " year                      | 2020                 \n",
            " cases                     | 200                  \n",
            " deaths                    | 6                    \n",
            " countries_and_territories | Afghanistan          \n",
            " geo_id                    | AF                   \n",
            " country_territory_code    | AFG                  \n",
            " pop_data_2018             | null                 \n",
            " continent_exp             | Asia                 \n",
            " load_date                 | 2021-07-06 00:07:... \n",
            " iso_country               | AF                   \n",
            " load_date_dateFormat      | 2021-07-06           \n",
            "-RECORD 7-----------------------------------------\n",
            " date_rep                  | 2020-12-07           \n",
            " day                       | 7                    \n",
            " month                     | 12                   \n",
            " year                      | 2020                 \n",
            " cases                     | 210                  \n",
            " deaths                    | 26                   \n",
            " countries_and_territories | Afghanistan          \n",
            " geo_id                    | AF                   \n",
            " country_territory_code    | AFG                  \n",
            " pop_data_2018             | null                 \n",
            " continent_exp             | Asia                 \n",
            " load_date                 | 2021-07-06 00:07:... \n",
            " iso_country               | AF                   \n",
            " load_date_dateFormat      | 2021-07-06           \n",
            "-RECORD 8-----------------------------------------\n",
            " date_rep                  | 2020-12-06           \n",
            " day                       | 6                    \n",
            " month                     | 12                   \n",
            " year                      | 2020                 \n",
            " cases                     | 234                  \n",
            " deaths                    | 10                   \n",
            " countries_and_territories | Afghanistan          \n",
            " geo_id                    | AF                   \n",
            " country_territory_code    | AFG                  \n",
            " pop_data_2018             | null                 \n",
            " continent_exp             | Asia                 \n",
            " load_date                 | 2021-07-06 00:07:... \n",
            " iso_country               | AF                   \n",
            " load_date_dateFormat      | 2021-07-06           \n",
            "-RECORD 9-----------------------------------------\n",
            " date_rep                  | 2020-12-05           \n",
            " day                       | 5                    \n",
            " month                     | 12                   \n",
            " year                      | 2020                 \n",
            " cases                     | 235                  \n",
            " deaths                    | 18                   \n",
            " countries_and_territories | Afghanistan          \n",
            " geo_id                    | AF                   \n",
            " country_territory_code    | AFG                  \n",
            " pop_data_2018             | null                 \n",
            " continent_exp             | Asia                 \n",
            " load_date                 | 2021-07-06 00:07:... \n",
            " iso_country               | AF                   \n",
            " load_date_dateFormat      | 2021-07-06           \n",
            "-RECORD 10----------------------------------------\n",
            " date_rep                  | 2020-12-04           \n",
            " day                       | 4                    \n",
            " month                     | 12                   \n",
            " year                      | 2020                 \n",
            " cases                     | 119                  \n",
            " deaths                    | 5                    \n",
            " countries_and_territories | Afghanistan          \n",
            " geo_id                    | AF                   \n",
            " country_territory_code    | AFG                  \n",
            " pop_data_2018             | null                 \n",
            " continent_exp             | Asia                 \n",
            " load_date                 | 2021-07-06 00:07:... \n",
            " iso_country               | AF                   \n",
            " load_date_dateFormat      | 2021-07-06           \n",
            "-RECORD 11----------------------------------------\n",
            " date_rep                  | 2020-12-03           \n",
            " day                       | 3                    \n",
            " month                     | 12                   \n",
            " year                      | 2020                 \n",
            " cases                     | 202                  \n",
            " deaths                    | 19                   \n",
            " countries_and_territories | Afghanistan          \n",
            " geo_id                    | AF                   \n",
            " country_territory_code    | AFG                  \n",
            " pop_data_2018             | null                 \n",
            " continent_exp             | Asia                 \n",
            " load_date                 | 2021-07-06 00:07:... \n",
            " iso_country               | AF                   \n",
            " load_date_dateFormat      | 2021-07-06           \n",
            "-RECORD 12----------------------------------------\n",
            " date_rep                  | 2020-12-02           \n",
            " day                       | 2                    \n",
            " month                     | 12                   \n",
            " year                      | 2020                 \n",
            " cases                     | 400                  \n",
            " deaths                    | 48                   \n",
            " countries_and_territories | Afghanistan          \n",
            " geo_id                    | AF                   \n",
            " country_territory_code    | AFG                  \n",
            " pop_data_2018             | null                 \n",
            " continent_exp             | Asia                 \n",
            " load_date                 | 2021-07-06 00:07:... \n",
            " iso_country               | AF                   \n",
            " load_date_dateFormat      | 2021-07-06           \n",
            "-RECORD 13----------------------------------------\n",
            " date_rep                  | 2020-12-01           \n",
            " day                       | 1                    \n",
            " month                     | 12                   \n",
            " year                      | 2020                 \n",
            " cases                     | 272                  \n",
            " deaths                    | 11                   \n",
            " countries_and_territories | Afghanistan          \n",
            " geo_id                    | AF                   \n",
            " country_territory_code    | AFG                  \n",
            " pop_data_2018             | null                 \n",
            " continent_exp             | Asia                 \n",
            " load_date                 | 2021-07-06 00:07:... \n",
            " iso_country               | AF                   \n",
            " load_date_dateFormat      | 2021-07-06           \n",
            "-RECORD 14----------------------------------------\n",
            " date_rep                  | 2020-11-30           \n",
            " day                       | 30                   \n",
            " month                     | 11                   \n",
            " year                      | 2020                 \n",
            " cases                     | 0                    \n",
            " deaths                    | 0                    \n",
            " countries_and_territories | Afghanistan          \n",
            " geo_id                    | AF                   \n",
            " country_territory_code    | AFG                  \n",
            " pop_data_2018             | null                 \n",
            " continent_exp             | Asia                 \n",
            " load_date                 | 2021-07-06 00:07:... \n",
            " iso_country               | AF                   \n",
            " load_date_dateFormat      | 2021-07-06           \n",
            "-RECORD 15----------------------------------------\n",
            " date_rep                  | 2020-11-29           \n",
            " day                       | 29                   \n",
            " month                     | 11                   \n",
            " year                      | 2020                 \n",
            " cases                     | 228                  \n",
            " deaths                    | 11                   \n",
            " countries_and_territories | Afghanistan          \n",
            " geo_id                    | AF                   \n",
            " country_territory_code    | AFG                  \n",
            " pop_data_2018             | null                 \n",
            " continent_exp             | Asia                 \n",
            " load_date                 | 2021-07-06 00:07:... \n",
            " iso_country               | AF                   \n",
            " load_date_dateFormat      | 2021-07-06           \n",
            "-RECORD 16----------------------------------------\n",
            " date_rep                  | 2020-11-28           \n",
            " day                       | 28                   \n",
            " month                     | 11                   \n",
            " year                      | 2020                 \n",
            " cases                     | 214                  \n",
            " deaths                    | 15                   \n",
            " countries_and_territories | Afghanistan          \n",
            " geo_id                    | AF                   \n",
            " country_territory_code    | AFG                  \n",
            " pop_data_2018             | null                 \n",
            " continent_exp             | Asia                 \n",
            " load_date                 | 2021-07-06 00:07:... \n",
            " iso_country               | AF                   \n",
            " load_date_dateFormat      | 2021-07-06           \n",
            "-RECORD 17----------------------------------------\n",
            " date_rep                  | 2020-11-27           \n",
            " day                       | 27                   \n",
            " month                     | 11                   \n",
            " year                      | 2020                 \n",
            " cases                     | 0                    \n",
            " deaths                    | 0                    \n",
            " countries_and_territories | Afghanistan          \n",
            " geo_id                    | AF                   \n",
            " country_territory_code    | AFG                  \n",
            " pop_data_2018             | null                 \n",
            " continent_exp             | Asia                 \n",
            " load_date                 | 2021-07-06 00:07:... \n",
            " iso_country               | AF                   \n",
            " load_date_dateFormat      | 2021-07-06           \n",
            "-RECORD 18----------------------------------------\n",
            " date_rep                  | 2020-11-26           \n",
            " day                       | 26                   \n",
            " month                     | 11                   \n",
            " year                      | 2020                 \n",
            " cases                     | 200                  \n",
            " deaths                    | 12                   \n",
            " countries_and_territories | Afghanistan          \n",
            " geo_id                    | AF                   \n",
            " country_territory_code    | AFG                  \n",
            " pop_data_2018             | null                 \n",
            " continent_exp             | Asia                 \n",
            " load_date                 | 2021-07-06 00:07:... \n",
            " iso_country               | AF                   \n",
            " load_date_dateFormat      | 2021-07-06           \n",
            "-RECORD 19----------------------------------------\n",
            " date_rep                  | 2020-11-25           \n",
            " day                       | 25                   \n",
            " month                     | 11                   \n",
            " year                      | 2020                 \n",
            " cases                     | 185                  \n",
            " deaths                    | 13                   \n",
            " countries_and_territories | Afghanistan          \n",
            " geo_id                    | AF                   \n",
            " country_territory_code    | AFG                  \n",
            " pop_data_2018             | null                 \n",
            " continent_exp             | Asia                 \n",
            " load_date                 | 2021-07-06 00:07:... \n",
            " iso_country               | AF                   \n",
            " load_date_dateFormat      | 2021-07-06           \n",
            "only showing top 20 rows"
          ]
        }
      ],
      "execution_count": 64,
      "metadata": {
        "collapsed": true,
        "jupyter": {
          "source_hidden": false,
          "outputs_hidden": false
        },
        "nteract": {
          "transient": {
            "deleting": false
          }
        }
      }
    },
    {
      "cell_type": "code",
      "source": [
        "deltaCovidTable.toDF().count()"
      ],
      "outputs": [
        {
          "output_type": "display_data",
          "data": {
            "application/vnd.livy.statement-meta+json": {
              "spark_pool": "smallPool",
              "session_id": 12,
              "statement_id": 65,
              "state": "finished",
              "livy_statement_state": "available",
              "queued_time": "2021-07-06T20:46:04.8237356Z",
              "session_start_time": null,
              "execution_start_time": "2021-07-06T20:46:04.9400656Z",
              "execution_finish_time": "2021-07-06T20:46:07.0104721Z"
            },
            "text/plain": "StatementMeta(smallPool, 12, 65, Finished, Available)"
          },
          "metadata": {}
        },
        {
          "output_type": "stream",
          "name": "stdout",
          "text": [
            "61900"
          ]
        }
      ],
      "execution_count": 65,
      "metadata": {
        "collapsed": true,
        "jupyter": {
          "source_hidden": false,
          "outputs_hidden": false
        },
        "nteract": {
          "transient": {
            "deleting": false
          }
        }
      }
    },
    {
      "cell_type": "markdown",
      "source": [
        "After the merge our dataset still contain 61900 records...but only from the most updated dataset"
      ],
      "metadata": {
        "nteract": {
          "transient": {
            "deleting": false
          }
        }
      }
    }
  ],
  "metadata": {
    "language_info": {
      "name": "python"
    },
    "kernelspec": {
      "name": "synapse_pyspark",
      "language": "Python",
      "display_name": "Synapse PySpark"
    },
    "kernel_info": {
      "name": "synapse_pyspark"
    },
    "save_output": true,
    "synapse_widget": {
      "version": "0.1",
      "state": {
        "c3d45b38-6ec6-448e-a681-618061a25136": {
          "type": "Synapse.DataFrame",
          "sync_state": {
            "table": {
              "rows": [
                {
                  "date_rep": "2020-12-14",
                  "iso_country": "AF",
                  "load_date": "2021-07-06T00:07:06.361Z",
                  "country_territory_code": "AFG",
                  "deaths": 6,
                  "countries_and_territories": "Afghanistan",
                  "year": 2020,
                  "geo_id": "AF",
                  "continent_exp": "Asia",
                  "day": 14,
                  "cases": 746,
                  "month": 12
                },
                {
                  "date_rep": "2020-12-13",
                  "iso_country": "AF",
                  "load_date": "2021-07-06T00:07:06.361Z",
                  "country_territory_code": "AFG",
                  "deaths": 9,
                  "countries_and_territories": "Afghanistan",
                  "year": 2020,
                  "geo_id": "AF",
                  "continent_exp": "Asia",
                  "day": 13,
                  "cases": 298,
                  "month": 12
                },
                {
                  "date_rep": "2020-12-12",
                  "iso_country": "AF",
                  "load_date": "2021-07-06T00:07:06.361Z",
                  "country_territory_code": "AFG",
                  "deaths": 11,
                  "countries_and_territories": "Afghanistan",
                  "year": 2020,
                  "geo_id": "AF",
                  "continent_exp": "Asia",
                  "day": 12,
                  "cases": 113,
                  "month": 12
                },
                {
                  "date_rep": "2020-12-11",
                  "iso_country": "AF",
                  "load_date": "2021-07-06T00:07:06.361Z",
                  "country_territory_code": "AFG",
                  "deaths": 10,
                  "countries_and_territories": "Afghanistan",
                  "year": 2020,
                  "geo_id": "AF",
                  "continent_exp": "Asia",
                  "day": 11,
                  "cases": 63,
                  "month": 12
                },
                {
                  "date_rep": "2020-12-10",
                  "iso_country": "AF",
                  "load_date": "2021-07-06T00:07:06.361Z",
                  "country_territory_code": "AFG",
                  "deaths": 16,
                  "countries_and_territories": "Afghanistan",
                  "year": 2020,
                  "geo_id": "AF",
                  "continent_exp": "Asia",
                  "day": 10,
                  "cases": 202,
                  "month": 12
                },
                {
                  "date_rep": "2020-12-09",
                  "iso_country": "AF",
                  "load_date": "2021-07-06T00:07:06.361Z",
                  "country_territory_code": "AFG",
                  "deaths": 13,
                  "countries_and_territories": "Afghanistan",
                  "year": 2020,
                  "geo_id": "AF",
                  "continent_exp": "Asia",
                  "day": 9,
                  "cases": 135,
                  "month": 12
                },
                {
                  "date_rep": "2020-12-08",
                  "iso_country": "AF",
                  "load_date": "2021-07-06T00:07:06.361Z",
                  "country_territory_code": "AFG",
                  "deaths": 6,
                  "countries_and_territories": "Afghanistan",
                  "year": 2020,
                  "geo_id": "AF",
                  "continent_exp": "Asia",
                  "day": 8,
                  "cases": 200,
                  "month": 12
                },
                {
                  "date_rep": "2020-12-07",
                  "iso_country": "AF",
                  "load_date": "2021-07-06T00:07:06.361Z",
                  "country_territory_code": "AFG",
                  "deaths": 26,
                  "countries_and_territories": "Afghanistan",
                  "year": 2020,
                  "geo_id": "AF",
                  "continent_exp": "Asia",
                  "day": 7,
                  "cases": 210,
                  "month": 12
                },
                {
                  "date_rep": "2020-12-06",
                  "iso_country": "AF",
                  "load_date": "2021-07-06T00:07:06.361Z",
                  "country_territory_code": "AFG",
                  "deaths": 10,
                  "countries_and_territories": "Afghanistan",
                  "year": 2020,
                  "geo_id": "AF",
                  "continent_exp": "Asia",
                  "day": 6,
                  "cases": 234,
                  "month": 12
                },
                {
                  "date_rep": "2020-12-05",
                  "iso_country": "AF",
                  "load_date": "2021-07-06T00:07:06.361Z",
                  "country_territory_code": "AFG",
                  "deaths": 18,
                  "countries_and_territories": "Afghanistan",
                  "year": 2020,
                  "geo_id": "AF",
                  "continent_exp": "Asia",
                  "day": 5,
                  "cases": 235,
                  "month": 12
                }
              ],
              "schema": {
                "date_rep": "date",
                "day": "smallint",
                "month": "smallint",
                "year": "smallint",
                "cases": "smallint",
                "deaths": "smallint",
                "countries_and_territories": "string",
                "geo_id": "string",
                "country_territory_code": "string",
                "pop_data_2018": "int",
                "continent_exp": "string",
                "load_date": "int",
                "iso_country": "string"
              }
            },
            "isSummary": false,
            "language": "scala"
          },
          "persist_state": {
            "view": {
              "type": "details",
              "tableOptions": {},
              "chartOptions": {
                "chartType": "bar",
                "aggregationType": "sum",
                "categoryFieldKeys": [
                  "date_rep"
                ],
                "seriesFieldKeys": [
                  "day"
                ],
                "isStacked": false
              }
            }
          }
        }
      }
    }
  },
  "nbformat": 4,
  "nbformat_minor": 2
}